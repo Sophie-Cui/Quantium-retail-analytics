{
 "cells": [
  {
   "cell_type": "code",
   "execution_count": 1,
   "metadata": {},
   "outputs": [],
   "source": [
    "import pandas as pd\n",
    "import numpy as np\n",
    "import matplotlib.pyplot as plt\n",
    "import re\n",
    "import seaborn as sns\n",
    "from scipy import stats\n",
    "from datetime import datetime\n",
    "sns.set_theme('notebook')\n",
    "from functools import reduce"
   ]
  },
  {
   "cell_type": "markdown",
   "metadata": {},
   "source": [
    "test the impact of the new trail layouts with a data driven recommendation to whether or not the trial layout should be rolled out to all their stores.\n",
    "\n",
    "examining the performance in trial vs control stores to provide a recommendation for each location based on our insight.\n",
    "\n",
    "Select control stores – explore the data and define metrics for the control store selection – think about what would make them a control store. Look at the drivers and make sure to visualise these in a graph to better determine if they are suited. For this piece it may even be worth creating a function to help. \n",
    "\n",
    "Assessment of the trial – this one should give you some interesting insights into each of the stores, check each trial store individually in comparison with the control store to get a clear view of its overall performance. We want to know if the trial stores were successful or not. \n",
    "\n",
    "Collate findings – summarise your findings for each store and provide an recommendation that we can share with Julia outlining the impact on sales during the trial period.\n",
    "\n"
   ]
  },
  {
   "cell_type": "markdown",
   "metadata": {},
   "source": [
    "valuate the performance of a store trial which was performed in stores 77, 86 and 88.\n",
    "\n",
    "consider the monthly sales experience of each store. \n",
    "\n",
    "- total sales revenue\n",
    "- total number of customers\n",
    "- average number of transactions per customer\n",
    "\n",
    "\n",
    "Create a measure to compare different control stores to each of the trial stores to do this write a function to reduce having to re-do the analysis for each trial store. Consider using Pearson correlations or a metric such as a magnitude distance e.g. 1- (Observed distance – minimum distance)/(Maximum distance – minimum distance) as a measure.\n",
    "\n",
    "\n",
    "\n",
    "Once you have selected your control stores, compare each trial and control pair during the trial period. You want to test if total sales are significantly different in the trial period and if so, check if the driver of change is more purchasing customers or more purchases per customers etc."
   ]
  },
  {
   "cell_type": "code",
   "execution_count": 9,
   "metadata": {},
   "outputs": [],
   "source": [
    "raw_data = pd.read_csv('data/QVI_data.csv')\n",
    "df = raw_data.copy()"
   ]
  },
  {
   "cell_type": "code",
   "execution_count": 10,
   "metadata": {},
   "outputs": [
    {
     "data": {
      "text/html": [
       "<div>\n",
       "<style scoped>\n",
       "    .dataframe tbody tr th:only-of-type {\n",
       "        vertical-align: middle;\n",
       "    }\n",
       "\n",
       "    .dataframe tbody tr th {\n",
       "        vertical-align: top;\n",
       "    }\n",
       "\n",
       "    .dataframe thead th {\n",
       "        text-align: right;\n",
       "    }\n",
       "</style>\n",
       "<table border=\"1\" class=\"dataframe\">\n",
       "  <thead>\n",
       "    <tr style=\"text-align: right;\">\n",
       "      <th></th>\n",
       "      <th>LYLTY_CARD_NBR</th>\n",
       "      <th>DATE</th>\n",
       "      <th>STORE_NBR</th>\n",
       "      <th>TXN_ID</th>\n",
       "      <th>PROD_NBR</th>\n",
       "      <th>PROD_NAME</th>\n",
       "      <th>PROD_QTY</th>\n",
       "      <th>TOT_SALES</th>\n",
       "      <th>PACK_SIZE</th>\n",
       "      <th>BRAND</th>\n",
       "      <th>LIFESTAGE</th>\n",
       "      <th>PREMIUM_CUSTOMER</th>\n",
       "    </tr>\n",
       "  </thead>\n",
       "  <tbody>\n",
       "    <tr>\n",
       "      <th>0</th>\n",
       "      <td>1000</td>\n",
       "      <td>2018-10-17</td>\n",
       "      <td>1</td>\n",
       "      <td>1</td>\n",
       "      <td>5</td>\n",
       "      <td>Natural Chip        Compny SeaSalt175g</td>\n",
       "      <td>2</td>\n",
       "      <td>6.0</td>\n",
       "      <td>175</td>\n",
       "      <td>NATURAL</td>\n",
       "      <td>YOUNG SINGLES/COUPLES</td>\n",
       "      <td>Premium</td>\n",
       "    </tr>\n",
       "    <tr>\n",
       "      <th>1</th>\n",
       "      <td>1002</td>\n",
       "      <td>2018-09-16</td>\n",
       "      <td>1</td>\n",
       "      <td>2</td>\n",
       "      <td>58</td>\n",
       "      <td>Red Rock Deli Chikn&amp;Garlic Aioli 150g</td>\n",
       "      <td>1</td>\n",
       "      <td>2.7</td>\n",
       "      <td>150</td>\n",
       "      <td>RRD</td>\n",
       "      <td>YOUNG SINGLES/COUPLES</td>\n",
       "      <td>Mainstream</td>\n",
       "    </tr>\n",
       "    <tr>\n",
       "      <th>2</th>\n",
       "      <td>1003</td>\n",
       "      <td>2019-03-07</td>\n",
       "      <td>1</td>\n",
       "      <td>3</td>\n",
       "      <td>52</td>\n",
       "      <td>Grain Waves Sour    Cream&amp;Chives 210G</td>\n",
       "      <td>1</td>\n",
       "      <td>3.6</td>\n",
       "      <td>210</td>\n",
       "      <td>GRNWVES</td>\n",
       "      <td>YOUNG FAMILIES</td>\n",
       "      <td>Budget</td>\n",
       "    </tr>\n",
       "    <tr>\n",
       "      <th>3</th>\n",
       "      <td>1003</td>\n",
       "      <td>2019-03-08</td>\n",
       "      <td>1</td>\n",
       "      <td>4</td>\n",
       "      <td>106</td>\n",
       "      <td>Natural ChipCo      Hony Soy Chckn175g</td>\n",
       "      <td>1</td>\n",
       "      <td>3.0</td>\n",
       "      <td>175</td>\n",
       "      <td>NATURAL</td>\n",
       "      <td>YOUNG FAMILIES</td>\n",
       "      <td>Budget</td>\n",
       "    </tr>\n",
       "    <tr>\n",
       "      <th>4</th>\n",
       "      <td>1004</td>\n",
       "      <td>2018-11-02</td>\n",
       "      <td>1</td>\n",
       "      <td>5</td>\n",
       "      <td>96</td>\n",
       "      <td>WW Original Stacked Chips 160g</td>\n",
       "      <td>1</td>\n",
       "      <td>1.9</td>\n",
       "      <td>160</td>\n",
       "      <td>WOOLWORTHS</td>\n",
       "      <td>OLDER SINGLES/COUPLES</td>\n",
       "      <td>Mainstream</td>\n",
       "    </tr>\n",
       "  </tbody>\n",
       "</table>\n",
       "</div>"
      ],
      "text/plain": [
       "   LYLTY_CARD_NBR        DATE  STORE_NBR  TXN_ID  PROD_NBR  \\\n",
       "0            1000  2018-10-17          1       1         5   \n",
       "1            1002  2018-09-16          1       2        58   \n",
       "2            1003  2019-03-07          1       3        52   \n",
       "3            1003  2019-03-08          1       4       106   \n",
       "4            1004  2018-11-02          1       5        96   \n",
       "\n",
       "                                PROD_NAME  PROD_QTY  TOT_SALES  PACK_SIZE  \\\n",
       "0  Natural Chip        Compny SeaSalt175g         2        6.0        175   \n",
       "1   Red Rock Deli Chikn&Garlic Aioli 150g         1        2.7        150   \n",
       "2   Grain Waves Sour    Cream&Chives 210G         1        3.6        210   \n",
       "3  Natural ChipCo      Hony Soy Chckn175g         1        3.0        175   \n",
       "4          WW Original Stacked Chips 160g         1        1.9        160   \n",
       "\n",
       "        BRAND              LIFESTAGE PREMIUM_CUSTOMER  \n",
       "0     NATURAL  YOUNG SINGLES/COUPLES          Premium  \n",
       "1         RRD  YOUNG SINGLES/COUPLES       Mainstream  \n",
       "2     GRNWVES         YOUNG FAMILIES           Budget  \n",
       "3     NATURAL         YOUNG FAMILIES           Budget  \n",
       "4  WOOLWORTHS  OLDER SINGLES/COUPLES       Mainstream  "
      ]
     },
     "execution_count": 10,
     "metadata": {},
     "output_type": "execute_result"
    }
   ],
   "source": [
    "df.head()"
   ]
  },
  {
   "cell_type": "markdown",
   "metadata": {},
   "source": [
    "Select control stores\n",
    "\n",
    "The client has selected store numbers 77, 86, 88 has trail stores and want control stores to be established store athat operational for the entire observation period\n",
    "\n",
    "We would want to match trail stores to control stores that are similar to the trial store prior to the trial period of Feb 2019 in terms of:\n",
    "- Monthly overall sales revenue\n",
    "- Monthly number of customers \n",
    "- Monthly number of transactions per customer\n",
    "\n",
    "create the metrics of interest and filter to stores that are present throughout the pre-trail period period\n",
    "\n",
    "\n"
   ]
  },
  {
   "cell_type": "code",
   "execution_count": 11,
   "metadata": {},
   "outputs": [],
   "source": [
    "# calculate these measures over time for each store\n",
    "# add a new month ID column in the data with the format yyyym\n",
    "df['YEARMONTH'] = [''.join(x.split('-')[0:2]) for x in df['DATE']]\n",
    "df['YEARMONTH'] = pd.to_datetime(df['YEARMONTH'], format = '%Y%m')\n",
    "df['DATE'] = pd.to_datetime(df['DATE'])\n"
   ]
  },
  {
   "cell_type": "code",
   "execution_count": 12,
   "metadata": {},
   "outputs": [
    {
     "data": {
      "text/html": [
       "<div>\n",
       "<style scoped>\n",
       "    .dataframe tbody tr th:only-of-type {\n",
       "        vertical-align: middle;\n",
       "    }\n",
       "\n",
       "    .dataframe tbody tr th {\n",
       "        vertical-align: top;\n",
       "    }\n",
       "\n",
       "    .dataframe thead th {\n",
       "        text-align: right;\n",
       "    }\n",
       "</style>\n",
       "<table border=\"1\" class=\"dataframe\">\n",
       "  <thead>\n",
       "    <tr style=\"text-align: right;\">\n",
       "      <th></th>\n",
       "      <th>LYLTY_CARD_NBR</th>\n",
       "      <th>DATE</th>\n",
       "      <th>STORE_NBR</th>\n",
       "      <th>TXN_ID</th>\n",
       "      <th>PROD_NBR</th>\n",
       "      <th>PROD_NAME</th>\n",
       "      <th>PROD_QTY</th>\n",
       "      <th>TOT_SALES</th>\n",
       "      <th>PACK_SIZE</th>\n",
       "      <th>BRAND</th>\n",
       "      <th>LIFESTAGE</th>\n",
       "      <th>PREMIUM_CUSTOMER</th>\n",
       "      <th>YEARMONTH</th>\n",
       "    </tr>\n",
       "  </thead>\n",
       "  <tbody>\n",
       "    <tr>\n",
       "      <th>0</th>\n",
       "      <td>1000</td>\n",
       "      <td>2018-10-17</td>\n",
       "      <td>1</td>\n",
       "      <td>1</td>\n",
       "      <td>5</td>\n",
       "      <td>Natural Chip        Compny SeaSalt175g</td>\n",
       "      <td>2</td>\n",
       "      <td>6.0</td>\n",
       "      <td>175</td>\n",
       "      <td>NATURAL</td>\n",
       "      <td>YOUNG SINGLES/COUPLES</td>\n",
       "      <td>Premium</td>\n",
       "      <td>2018-10-01</td>\n",
       "    </tr>\n",
       "    <tr>\n",
       "      <th>1</th>\n",
       "      <td>1002</td>\n",
       "      <td>2018-09-16</td>\n",
       "      <td>1</td>\n",
       "      <td>2</td>\n",
       "      <td>58</td>\n",
       "      <td>Red Rock Deli Chikn&amp;Garlic Aioli 150g</td>\n",
       "      <td>1</td>\n",
       "      <td>2.7</td>\n",
       "      <td>150</td>\n",
       "      <td>RRD</td>\n",
       "      <td>YOUNG SINGLES/COUPLES</td>\n",
       "      <td>Mainstream</td>\n",
       "      <td>2018-09-01</td>\n",
       "    </tr>\n",
       "  </tbody>\n",
       "</table>\n",
       "</div>"
      ],
      "text/plain": [
       "   LYLTY_CARD_NBR       DATE  STORE_NBR  TXN_ID  PROD_NBR  \\\n",
       "0            1000 2018-10-17          1       1         5   \n",
       "1            1002 2018-09-16          1       2        58   \n",
       "\n",
       "                                PROD_NAME  PROD_QTY  TOT_SALES  PACK_SIZE  \\\n",
       "0  Natural Chip        Compny SeaSalt175g         2        6.0        175   \n",
       "1   Red Rock Deli Chikn&Garlic Aioli 150g         1        2.7        150   \n",
       "\n",
       "     BRAND              LIFESTAGE PREMIUM_CUSTOMER  YEARMONTH  \n",
       "0  NATURAL  YOUNG SINGLES/COUPLES          Premium 2018-10-01  \n",
       "1      RRD  YOUNG SINGLES/COUPLES       Mainstream 2018-09-01  "
      ]
     },
     "execution_count": 12,
     "metadata": {},
     "output_type": "execute_result"
    }
   ],
   "source": [
    "df.head(2)"
   ]
  },
  {
   "cell_type": "markdown",
   "metadata": {},
   "source": [
    "Next, define the measure calculations to use during the analysis. For each store and month calculate total sales, number of customers, transactions per customer, chips per customer and average price per unit."
   ]
  },
  {
   "cell_type": "code",
   "execution_count": 13,
   "metadata": {},
   "outputs": [
    {
     "data": {
      "text/html": [
       "<div>\n",
       "<style scoped>\n",
       "    .dataframe tbody tr th:only-of-type {\n",
       "        vertical-align: middle;\n",
       "    }\n",
       "\n",
       "    .dataframe tbody tr th {\n",
       "        vertical-align: top;\n",
       "    }\n",
       "\n",
       "    .dataframe thead th {\n",
       "        text-align: right;\n",
       "    }\n",
       "</style>\n",
       "<table border=\"1\" class=\"dataframe\">\n",
       "  <thead>\n",
       "    <tr style=\"text-align: right;\">\n",
       "      <th></th>\n",
       "      <th></th>\n",
       "      <th>totSales</th>\n",
       "      <th>nCustomers</th>\n",
       "      <th>nTxnPerCust</th>\n",
       "      <th>nChipPerTxn</th>\n",
       "      <th>avgPricePerUnit</th>\n",
       "    </tr>\n",
       "    <tr>\n",
       "      <th>STORE_NBR</th>\n",
       "      <th>YEARMONTH</th>\n",
       "      <th></th>\n",
       "      <th></th>\n",
       "      <th></th>\n",
       "      <th></th>\n",
       "      <th></th>\n",
       "    </tr>\n",
       "  </thead>\n",
       "  <tbody>\n",
       "    <tr>\n",
       "      <th rowspan=\"2\" valign=\"top\">1</th>\n",
       "      <th>2018-07-01</th>\n",
       "      <td>206.9</td>\n",
       "      <td>49</td>\n",
       "      <td>1.061224</td>\n",
       "      <td>1.192308</td>\n",
       "      <td>3.337097</td>\n",
       "    </tr>\n",
       "    <tr>\n",
       "      <th>2018-08-01</th>\n",
       "      <td>176.1</td>\n",
       "      <td>42</td>\n",
       "      <td>1.023810</td>\n",
       "      <td>1.255814</td>\n",
       "      <td>3.261111</td>\n",
       "    </tr>\n",
       "  </tbody>\n",
       "</table>\n",
       "</div>"
      ],
      "text/plain": [
       "                      totSales  nCustomers  nTxnPerCust  nChipPerTxn  \\\n",
       "STORE_NBR YEARMONTH                                                    \n",
       "1         2018-07-01     206.9          49     1.061224     1.192308   \n",
       "          2018-08-01     176.1          42     1.023810     1.255814   \n",
       "\n",
       "                      avgPricePerUnit  \n",
       "STORE_NBR YEARMONTH                    \n",
       "1         2018-07-01         3.337097  \n",
       "          2018-08-01         3.261111  "
      ]
     },
     "execution_count": 13,
     "metadata": {},
     "output_type": "execute_result"
    }
   ],
   "source": [
    "measureOverTime = df\\\n",
    ".groupby(['STORE_NBR', 'YEARMONTH'])\\\n",
    ".agg({'TOT_SALES': 'sum', \n",
    "     'LYLTY_CARD_NBR': 'nunique',\n",
    "     'TXN_ID': 'nunique',\n",
    "    'PROD_QTY': 'sum'\n",
    "     })\n",
    "measureOverTime.columns = ['totSales', 'nCustomers', 'nTxn', 'totChips']\n",
    "\n",
    "measureOverTime['nTxnPerCust'] = measureOverTime['nTxn']/measureOverTime['nCustomers']\n",
    "measureOverTime['nChipPerTxn'] = measureOverTime['totChips']/measureOverTime['nTxn']\n",
    "measureOverTime['avgPricePerUnit'] = measureOverTime['totSales']/measureOverTime['totChips']\n",
    "\n",
    "measureOverTime.drop(['nTxn', 'totChips'], axis = 1, inplace = True)\n",
    "\n",
    "measureOverTime.head(2)"
   ]
  },
  {
   "cell_type": "code",
   "execution_count": 14,
   "metadata": {},
   "outputs": [],
   "source": [
    "assert (measureOverTime.reset_index().groupby('STORE_NBR')['YEARMONTH'].agg('nunique') == 12).sum() == measureOverTime.reset_index().groupby('STORE_NBR').filter(lambda x: x['YEARMONTH'].nunique() == 12)['STORE_NBR'].nunique()\n"
   ]
  },
  {
   "cell_type": "markdown",
   "metadata": {},
   "source": [
    "Filtering to the pre-trial period and stores with full observation periods \n",
    "\n",
    "filter out stores contains over one year data\n",
    "and trail period of Fed 2019\n"
   ]
  },
  {
   "cell_type": "code",
   "execution_count": 15,
   "metadata": {},
   "outputs": [],
   "source": [
    "storesWithFullObs = measureOverTime.reset_index().groupby('STORE_NBR').filter(lambda x: x['YEARMONTH'].nunique() == 12)\n",
    "\n",
    "preTrialMeasures = storesWithFullObs.loc[storesWithFullObs['YEARMONTH'] < datetime(2019, 2, 1)]"
   ]
  },
  {
   "cell_type": "markdown",
   "metadata": {},
   "source": [
    "Now we need to work out a way of ranking how simliar each potential control store is to the trail store. We can calculate how correlated the performance of each store is the trial store.\n",
    "\n",
    "Apart from correlation, we can also calculate a standardised metric based on the absolute difference between the trial store's performance and each control store's performance\n",
    "\n",
    "Create a function to calculate a standardised magnitude distance for a measure."
   ]
  },
  {
   "cell_type": "code",
   "execution_count": 36,
   "metadata": {},
   "outputs": [],
   "source": [
    "def correlation_table_by_feature(target_store, feature, df=preTrialMeasures):\n",
    "    corr = []\n",
    "    nStore = df.STORE_NBR.nunique()\n",
    "    a = df[df.STORE_NBR == target_store][feature]\n",
    "    for i in df.STORE_NBR.unique():\n",
    "        b = df[df.STORE_NBR == i][feature]\n",
    "        cor_coe = np.corrcoef(a, b)[0, 1]\n",
    "        corr.append(cor_coe)\n",
    "    calcCorrTable =  pd.DataFrame({'target_store': [target_store]*nStore,\n",
    "                           'compared_store': df.STORE_NBR.unique(),\n",
    "                           'correlation': corr})\n",
    "    return calcCorrTable\n",
    "\n",
    "\n",
    "def magnitude_distance_by_feature(target_store, feature, df=preTrialMeasures):\n",
    "    distance = []\n",
    "    for i in df.STORE_NBR.unique():\n",
    "        for j in df.YEARMONTH.unique():\n",
    "            feature_otherstore_yearmonth = df[(df.STORE_NBR == i) & (df.YEARMONTH == j)][feature].values\n",
    "            feature_targetstore_yearmonth = df[(df.STORE_NBR == target_store)&(df.YEARMONTH == j)][feature].values\n",
    "            distance.append(np.round(abs(feature_otherstore_yearmonth - feature_targetstore_yearmonth), 3))\n",
    "    distances_overtime_pair_stores = pd.DataFrame({'compared_store': df['STORE_NBR'].values,\n",
    "                                                  'YEARMONTH': df['YEARMONTH'].values,\n",
    "                                                  'DISTANCE': np.array(distance).flatten()})\n",
    "    # standardise the magnitude distance so that the measure ranges from 0 to 1\n",
    "    max_distance_yearmonth_allstores = distances_overtime_pair_stores.groupby('YEARMONTH')['DISTANCE'].max()\n",
    "    min_distance_yearmonth_allstores = distances_overtime_pair_stores.groupby('YEARMONTH')['DISTANCE'].min()\n",
    "    \n",
    "    magnitude_distance = []\n",
    "    for i in df.STORE_NBR.unique():\n",
    "        feature_otherstore_overtime = df[df.STORE_NBR == i][feature].values\n",
    "        feature_targetstore_overtime = df[df.STORE_NBR == target_store][feature].values\n",
    "        nom = abs(feature_otherstore_overtime - feature_targetstore_overtime)\n",
    "        measure = (1 - (nom - min_distance_yearmonth_allstores)/(max_distance_yearmonth_allstores - min_distance_yearmonth_allstores)).mean()\n",
    "        magnitude_distance.append(measure)\n",
    "    finalDistTable = pd.DataFrame({'target_store': [target_store]*df.STORE_NBR.nunique(),\n",
    "                                  'compared_store': df.STORE_NBR.unique(),\n",
    "                                  'magnitude_distance': magnitude_distance})\n",
    "    \n",
    "    return finalDistTable\n"
   ]
  },
  {
   "cell_type": "markdown",
   "metadata": {},
   "source": [
    "Now use the functions to find the control stores. We'll select control stores based on how simliar monthly total sales in dollar amounts and monthly number of customers are to the trial stores. So we will need to use our functions to get four scores, two for each of sales and total customers."
   ]
  },
  {
   "cell_type": "markdown",
   "metadata": {},
   "source": [
    "## Store 77"
   ]
  },
  {
   "cell_type": "code",
   "execution_count": 37,
   "metadata": {},
   "outputs": [
    {
     "data": {
      "text/html": [
       "<div>\n",
       "<style scoped>\n",
       "    .dataframe tbody tr th:only-of-type {\n",
       "        vertical-align: middle;\n",
       "    }\n",
       "\n",
       "    .dataframe tbody tr th {\n",
       "        vertical-align: top;\n",
       "    }\n",
       "\n",
       "    .dataframe thead th {\n",
       "        text-align: right;\n",
       "    }\n",
       "</style>\n",
       "<table border=\"1\" class=\"dataframe\">\n",
       "  <thead>\n",
       "    <tr style=\"text-align: right;\">\n",
       "      <th></th>\n",
       "      <th>target_store</th>\n",
       "      <th>compared_store</th>\n",
       "      <th>correlation</th>\n",
       "    </tr>\n",
       "  </thead>\n",
       "  <tbody>\n",
       "    <tr>\n",
       "      <th>72</th>\n",
       "      <td>77</td>\n",
       "      <td>77</td>\n",
       "      <td>1.000000</td>\n",
       "    </tr>\n",
       "    <tr>\n",
       "      <th>67</th>\n",
       "      <td>77</td>\n",
       "      <td>71</td>\n",
       "      <td>0.914106</td>\n",
       "    </tr>\n",
       "    <tr>\n",
       "      <th>221</th>\n",
       "      <td>77</td>\n",
       "      <td>233</td>\n",
       "      <td>0.903774</td>\n",
       "    </tr>\n",
       "    <tr>\n",
       "      <th>111</th>\n",
       "      <td>77</td>\n",
       "      <td>119</td>\n",
       "      <td>0.867664</td>\n",
       "    </tr>\n",
       "    <tr>\n",
       "      <th>15</th>\n",
       "      <td>77</td>\n",
       "      <td>17</td>\n",
       "      <td>0.842668</td>\n",
       "    </tr>\n",
       "  </tbody>\n",
       "</table>\n",
       "</div>"
      ],
      "text/plain": [
       "     target_store  compared_store  correlation\n",
       "72             77              77     1.000000\n",
       "67             77              71     0.914106\n",
       "221            77             233     0.903774\n",
       "111            77             119     0.867664\n",
       "15             77              17     0.842668"
      ]
     },
     "execution_count": 37,
     "metadata": {},
     "output_type": "execute_result"
    }
   ],
   "source": [
    "correlation_table_by_feature(77, 'totSales')\\\n",
    ".sort_values('correlation', ascending = False)\\\n",
    ".head()"
   ]
  },
  {
   "cell_type": "code",
   "execution_count": 38,
   "metadata": {},
   "outputs": [
    {
     "data": {
      "text/html": [
       "<div>\n",
       "<style scoped>\n",
       "    .dataframe tbody tr th:only-of-type {\n",
       "        vertical-align: middle;\n",
       "    }\n",
       "\n",
       "    .dataframe tbody tr th {\n",
       "        vertical-align: top;\n",
       "    }\n",
       "\n",
       "    .dataframe thead th {\n",
       "        text-align: right;\n",
       "    }\n",
       "</style>\n",
       "<table border=\"1\" class=\"dataframe\">\n",
       "  <thead>\n",
       "    <tr style=\"text-align: right;\">\n",
       "      <th></th>\n",
       "      <th>target_store</th>\n",
       "      <th>compared_store</th>\n",
       "      <th>correlation</th>\n",
       "    </tr>\n",
       "  </thead>\n",
       "  <tbody>\n",
       "    <tr>\n",
       "      <th>72</th>\n",
       "      <td>77</td>\n",
       "      <td>77</td>\n",
       "      <td>1.000000</td>\n",
       "    </tr>\n",
       "    <tr>\n",
       "      <th>221</th>\n",
       "      <td>77</td>\n",
       "      <td>233</td>\n",
       "      <td>0.990358</td>\n",
       "    </tr>\n",
       "    <tr>\n",
       "      <th>111</th>\n",
       "      <td>77</td>\n",
       "      <td>119</td>\n",
       "      <td>0.983267</td>\n",
       "    </tr>\n",
       "    <tr>\n",
       "      <th>241</th>\n",
       "      <td>77</td>\n",
       "      <td>254</td>\n",
       "      <td>0.916208</td>\n",
       "    </tr>\n",
       "    <tr>\n",
       "      <th>106</th>\n",
       "      <td>77</td>\n",
       "      <td>113</td>\n",
       "      <td>0.901348</td>\n",
       "    </tr>\n",
       "  </tbody>\n",
       "</table>\n",
       "</div>"
      ],
      "text/plain": [
       "     target_store  compared_store  correlation\n",
       "72             77              77     1.000000\n",
       "221            77             233     0.990358\n",
       "111            77             119     0.983267\n",
       "241            77             254     0.916208\n",
       "106            77             113     0.901348"
      ]
     },
     "execution_count": 38,
     "metadata": {},
     "output_type": "execute_result"
    }
   ],
   "source": [
    "correlation_table_by_feature(77, 'nCustomers')\\\n",
    ".sort_values('correlation', ascending = False)\\\n",
    ".head()"
   ]
  },
  {
   "cell_type": "code",
   "execution_count": 39,
   "metadata": {},
   "outputs": [
    {
     "data": {
      "text/html": [
       "<div>\n",
       "<style scoped>\n",
       "    .dataframe tbody tr th:only-of-type {\n",
       "        vertical-align: middle;\n",
       "    }\n",
       "\n",
       "    .dataframe tbody tr th {\n",
       "        vertical-align: top;\n",
       "    }\n",
       "\n",
       "    .dataframe thead th {\n",
       "        text-align: right;\n",
       "    }\n",
       "</style>\n",
       "<table border=\"1\" class=\"dataframe\">\n",
       "  <thead>\n",
       "    <tr style=\"text-align: right;\">\n",
       "      <th></th>\n",
       "      <th>target_store</th>\n",
       "      <th>compared_store</th>\n",
       "      <th>magnitude_distance</th>\n",
       "    </tr>\n",
       "  </thead>\n",
       "  <tbody>\n",
       "    <tr>\n",
       "      <th>72</th>\n",
       "      <td>77</td>\n",
       "      <td>77</td>\n",
       "      <td>1.000000</td>\n",
       "    </tr>\n",
       "    <tr>\n",
       "      <th>221</th>\n",
       "      <td>77</td>\n",
       "      <td>233</td>\n",
       "      <td>0.985265</td>\n",
       "    </tr>\n",
       "    <tr>\n",
       "      <th>242</th>\n",
       "      <td>77</td>\n",
       "      <td>255</td>\n",
       "      <td>0.976721</td>\n",
       "    </tr>\n",
       "    <tr>\n",
       "      <th>49</th>\n",
       "      <td>77</td>\n",
       "      <td>53</td>\n",
       "      <td>0.975422</td>\n",
       "    </tr>\n",
       "    <tr>\n",
       "      <th>180</th>\n",
       "      <td>77</td>\n",
       "      <td>188</td>\n",
       "      <td>0.975177</td>\n",
       "    </tr>\n",
       "  </tbody>\n",
       "</table>\n",
       "</div>"
      ],
      "text/plain": [
       "     target_store  compared_store  magnitude_distance\n",
       "72             77              77            1.000000\n",
       "221            77             233            0.985265\n",
       "242            77             255            0.976721\n",
       "49             77              53            0.975422\n",
       "180            77             188            0.975177"
      ]
     },
     "execution_count": 39,
     "metadata": {},
     "output_type": "execute_result"
    }
   ],
   "source": [
    "magnitude_distance_by_feature(77, 'totSales')\\\n",
    ".sort_values('magnitude_distance', ascending = False)\\\n",
    ".head()"
   ]
  },
  {
   "cell_type": "code",
   "execution_count": 40,
   "metadata": {},
   "outputs": [
    {
     "data": {
      "text/html": [
       "<div>\n",
       "<style scoped>\n",
       "    .dataframe tbody tr th:only-of-type {\n",
       "        vertical-align: middle;\n",
       "    }\n",
       "\n",
       "    .dataframe tbody tr th {\n",
       "        vertical-align: top;\n",
       "    }\n",
       "\n",
       "    .dataframe thead th {\n",
       "        text-align: right;\n",
       "    }\n",
       "</style>\n",
       "<table border=\"1\" class=\"dataframe\">\n",
       "  <thead>\n",
       "    <tr style=\"text-align: right;\">\n",
       "      <th></th>\n",
       "      <th>target_store</th>\n",
       "      <th>compared_store</th>\n",
       "      <th>magnitude_distance</th>\n",
       "    </tr>\n",
       "  </thead>\n",
       "  <tbody>\n",
       "    <tr>\n",
       "      <th>72</th>\n",
       "      <td>77</td>\n",
       "      <td>77</td>\n",
       "      <td>1.000000</td>\n",
       "    </tr>\n",
       "    <tr>\n",
       "      <th>221</th>\n",
       "      <td>77</td>\n",
       "      <td>233</td>\n",
       "      <td>0.992773</td>\n",
       "    </tr>\n",
       "    <tr>\n",
       "      <th>38</th>\n",
       "      <td>77</td>\n",
       "      <td>41</td>\n",
       "      <td>0.974639</td>\n",
       "    </tr>\n",
       "    <tr>\n",
       "      <th>104</th>\n",
       "      <td>77</td>\n",
       "      <td>111</td>\n",
       "      <td>0.966064</td>\n",
       "    </tr>\n",
       "    <tr>\n",
       "      <th>108</th>\n",
       "      <td>77</td>\n",
       "      <td>115</td>\n",
       "      <td>0.965916</td>\n",
       "    </tr>\n",
       "  </tbody>\n",
       "</table>\n",
       "</div>"
      ],
      "text/plain": [
       "     target_store  compared_store  magnitude_distance\n",
       "72             77              77            1.000000\n",
       "221            77             233            0.992773\n",
       "38             77              41            0.974639\n",
       "104            77             111            0.966064\n",
       "108            77             115            0.965916"
      ]
     },
     "execution_count": 40,
     "metadata": {},
     "output_type": "execute_result"
    }
   ],
   "source": [
    "magnitude_distance_by_feature(77, 'nCustomers')\\\n",
    ".sort_values('magnitude_distance', ascending = False)\\\n",
    ".head()"
   ]
  },
  {
   "cell_type": "markdown",
   "metadata": {},
   "source": [
    "Now need to combine the all the scores calculated using our function to create a composite score to rank on.<br>\n",
    "Let's take a simple average of the correlation and magitude scores for each driver<br>\n",
    "Note that if we consider it more important and magnitude scores for the drivers to be similar, we can increase the weight of the correlation score (a simple average gives a weight of 0.5 to the corr_weight) or if we consider the absolute size of the drivers to be more important, we can lower the weight of the correlation score.\n",
    "\n",
    "Create a combined score composed of correlation and magnitude, by first merging the correlations table with the magnitude table.\n",
    "\n",
    "A simple average on the scores would be 0.5 * correlation + 0.5 * magnitude distance\n"
   ]
  },
  {
   "cell_type": "code",
   "execution_count": 41,
   "metadata": {},
   "outputs": [],
   "source": [
    "correlation_totSales = correlation_table_by_feature(77, 'totSales')\n",
    "correlation_nCustomers = correlation_table_by_feature(77, 'nCustomers')\n",
    "magDis_totSales = magnitude_distance_by_feature(77, 'totSales')\n",
    "magDis_nCustomers = magnitude_distance_by_feature(77, 'nCustomers')\n",
    "\n"
   ]
  },
  {
   "cell_type": "code",
   "execution_count": 42,
   "metadata": {},
   "outputs": [],
   "source": [
    "data_frames = [correlation_totSales, correlation_nCustomers, magDis_totSales, magDis_nCustomers]\n",
    "df_merged = reduce(lambda left, right: pd.merge(left, right, on = ['target_store', 'compared_store'], how = 'left'), data_frames)"
   ]
  },
  {
   "cell_type": "code",
   "execution_count": 44,
   "metadata": {},
   "outputs": [
    {
     "data": {
      "text/html": [
       "<div>\n",
       "<style scoped>\n",
       "    .dataframe tbody tr th:only-of-type {\n",
       "        vertical-align: middle;\n",
       "    }\n",
       "\n",
       "    .dataframe tbody tr th {\n",
       "        vertical-align: top;\n",
       "    }\n",
       "\n",
       "    .dataframe thead th {\n",
       "        text-align: right;\n",
       "    }\n",
       "</style>\n",
       "<table border=\"1\" class=\"dataframe\">\n",
       "  <thead>\n",
       "    <tr style=\"text-align: right;\">\n",
       "      <th></th>\n",
       "      <th>target_store</th>\n",
       "      <th>compared_store</th>\n",
       "      <th>correlation_x</th>\n",
       "      <th>correlation_y</th>\n",
       "      <th>magnitude_distance_x</th>\n",
       "      <th>magnitude_distance_y</th>\n",
       "      <th>finalControlScore</th>\n",
       "    </tr>\n",
       "  </thead>\n",
       "  <tbody>\n",
       "    <tr>\n",
       "      <th>72</th>\n",
       "      <td>77</td>\n",
       "      <td>77</td>\n",
       "      <td>1.000000</td>\n",
       "      <td>1.000000</td>\n",
       "      <td>1.000000</td>\n",
       "      <td>1.000000</td>\n",
       "      <td>1.000000</td>\n",
       "    </tr>\n",
       "    <tr>\n",
       "      <th>221</th>\n",
       "      <td>77</td>\n",
       "      <td>233</td>\n",
       "      <td>0.903774</td>\n",
       "      <td>0.990358</td>\n",
       "      <td>0.985265</td>\n",
       "      <td>0.992773</td>\n",
       "      <td>0.968043</td>\n",
       "    </tr>\n",
       "  </tbody>\n",
       "</table>\n",
       "</div>"
      ],
      "text/plain": [
       "     target_store  compared_store  correlation_x  correlation_y  \\\n",
       "72             77              77       1.000000       1.000000   \n",
       "221            77             233       0.903774       0.990358   \n",
       "\n",
       "     magnitude_distance_x  magnitude_distance_y  finalControlScore  \n",
       "72               1.000000              1.000000           1.000000  \n",
       "221              0.985265              0.992773           0.968043  "
      ]
     },
     "execution_count": 44,
     "metadata": {},
     "output_type": "execute_result"
    }
   ],
   "source": [
    "corr_weight = 0.5\n",
    "\n",
    "df_merged['finalControlScore'] = corr_weight*(corr_weight*df_merged['correlation_x'] + (1 - corr_weight)*df_merged['magnitude_distance_x']) + (1-corr_weight)*(corr_weight*df_merged['correlation_y'] + (1 - corr_weight)*df_merged['magnitude_distance_y'])\n",
    "                                  \n",
    "                                  \n",
    "df_merged.sort_values('finalControlScore', ascending = False).head(2)                           \n",
    "                                  "
   ]
  },
  {
   "cell_type": "code",
   "execution_count": 66,
   "metadata": {},
   "outputs": [
    {
     "name": "stdout",
     "output_type": "stream",
     "text": [
      "control store:  233 target store:  77\n"
     ]
    }
   ],
   "source": [
    "control_store = df_merged.sort_values('finalControlScore', ascending = False).iloc[1][1].astype(int)\n",
    "target_store = 77\n",
    "print('control store: ', control_store, 'target store: ', target_store)\n",
    "\n"
   ]
  },
  {
   "cell_type": "markdown",
   "metadata": {},
   "source": [
    "Now that we have found a control store, let's check visually if the drivers are indeed similar in the period before the trial. We'll look at total sales first.\n"
   ]
  },
  {
   "cell_type": "code",
   "execution_count": 46,
   "metadata": {},
   "outputs": [],
   "source": [
    "measureOverTimeSales = measureOverTime.reset_index()\n",
    "\n",
    "conditions = [(measureOverTimeSales['STORE_NBR'] == target_store),\n",
    "             (measureOverTimeSales['STORE_NBR'] == control_store),\n",
    "             (~measureOverTimeSales['STORE_NBR'].isin([target_store, control_store]))]\n",
    "\n",
    "values = ['Trial', 'Control', 'Other Stores']\n",
    "\n",
    "measureOverTimeSales['store_type'] = np.select(conditions, values)"
   ]
  },
  {
   "cell_type": "code",
   "execution_count": 49,
   "metadata": {},
   "outputs": [],
   "source": [
    "lineplot_ready_totSales = measureOverTimeSales.groupby(['YEARMONTH', 'store_type'])['totSales'].mean().reset_index()\n",
    "lineplot_ready_totSales = lineplot_ready_totSales[lineplot_ready_totSales['YEARMONTH'] < '2019-03-01']"
   ]
  },
  {
   "cell_type": "code",
   "execution_count": 50,
   "metadata": {},
   "outputs": [
    {
     "name": "stderr",
     "output_type": "stream",
     "text": [
      "/Users/murongcui/opt/anaconda3/lib/python3.7/site-packages/pandas/plotting/_converter.py:129: FutureWarning: Using an implicitly registered datetime converter for a matplotlib plotting method. The converter was registered by pandas on import. Future versions of pandas will require you to explicitly register matplotlib converters.\n",
      "\n",
      "To register the converters:\n",
      "\t>>> from pandas.plotting import register_matplotlib_converters\n",
      "\t>>> register_matplotlib_converters()\n",
      "  warnings.warn(msg, FutureWarning)\n"
     ]
    },
    {
     "data": {
      "image/png": "[encoded data removed]",
      "text/plain": [
       "<Figure size 432x288 with 1 Axes>"
      ]
     },
     "metadata": {
      "needs_background": "light"
     },
     "output_type": "display_data"
    }
   ],
   "source": [
    "sns.lineplot(data = lineplot_ready_totSales, x = 'YEARMONTH', y = 'totSales', hue = 'store_type');\n"
   ]
  },
  {
   "cell_type": "markdown",
   "metadata": {},
   "source": [
    "Next, number of customers\n",
    "\n",
    "Conduct visual checks on customer count trends by comparing the trial store too the control store and other stores\n"
   ]
  },
  {
   "cell_type": "code",
   "execution_count": 51,
   "metadata": {},
   "outputs": [],
   "source": [
    "lineplot_ready_nCustomers =  measureOverTimeSales.groupby(['YEARMONTH', 'store_type'])['nCustomers'].mean().reset_index()\n",
    "lineplot_ready_nCustomers = lineplot_ready_nCustomers[lineplot_ready_nCustomers['YEARMONTH'] < '2019-03-01']\n",
    "\n"
   ]
  },
  {
   "cell_type": "code",
   "execution_count": 52,
   "metadata": {},
   "outputs": [
    {
     "data": {
      "image/png": "[encoded data removed]",
      "text/plain": [
       "<Figure size 432x288 with 1 Axes>"
      ]
     },
     "metadata": {
      "needs_background": "light"
     },
     "output_type": "display_data"
    }
   ],
   "source": [
    "sns.lineplot(data = lineplot_ready_nCustomers, x = 'YEARMONTH', y = 'nCustomers', hue = 'store_type');"
   ]
  },
  {
   "cell_type": "markdown",
   "metadata": {},
   "source": [
    "## Assessment of trial\n",
    "The trial period goes from the start of February 2019 to April 2019. We now want to see if there has been an uplift in overall chip sales.\n",
    "\n",
    "We'll start with scaling the control stores's sales to level simliar to control for any differences between the two stores outside of the trial period.\n",
    "\n",
    "\n",
    "\n",
    "\n"
   ]
  },
  {
   "cell_type": "code",
   "execution_count": 90,
   "metadata": {},
   "outputs": [],
   "source": [
    "# scale pre-trial control sales to match pre-trial store sales\n",
    "#scalingFactorForControlSales \n",
    "scalingFactorForControlsSales = preTrialMeasures[preTrialMeasures['STORE_NBR'] == target_store]['totSales'].sum()/preTrialMeasures[preTrialMeasures['STORE_NBR'] == control_store]['totSales'].sum()\n",
    "\n",
    "controlSales_control_store = measureOverTimeSales[measureOverTimeSales['STORE_NBR'] == control_store]['totSales'].values*scalingFactorForControlsSales\n",
    "\n",
    "totSales_target_store = measureOverTimeSales[measureOverTimeSales['STORE_NBR'] == target_store]['totSales'].values\n",
    "\n",
    "time_series = measureOverTimeSales[measureOverTimeSales['STORE_NBR'] == control_store]['YEARMONTH'].values\n"
   ]
  },
  {
   "cell_type": "markdown",
   "metadata": {},
   "source": [
    "Now that we have comparable sales figures for the control store, we can calculate the percentage difference between the scaled control sales and the trial store's sales during the trial period\n",
    "\n",
    "Calculate the percentage difference between scaled control sales and trial sales\n"
   ]
  },
  {
   "cell_type": "code",
   "execution_count": 91,
   "metadata": {},
   "outputs": [
    {
     "data": {
      "text/html": [
       "<div>\n",
       "<style scoped>\n",
       "    .dataframe tbody tr th:only-of-type {\n",
       "        vertical-align: middle;\n",
       "    }\n",
       "\n",
       "    .dataframe tbody tr th {\n",
       "        vertical-align: top;\n",
       "    }\n",
       "\n",
       "    .dataframe thead th {\n",
       "        text-align: right;\n",
       "    }\n",
       "</style>\n",
       "<table border=\"1\" class=\"dataframe\">\n",
       "  <thead>\n",
       "    <tr style=\"text-align: right;\">\n",
       "      <th></th>\n",
       "      <th>YEARMONTH</th>\n",
       "      <th>totSales_target_store</th>\n",
       "      <th>controlSales_control_store</th>\n",
       "      <th>percentageDiff</th>\n",
       "    </tr>\n",
       "  </thead>\n",
       "  <tbody>\n",
       "    <tr>\n",
       "      <th>0</th>\n",
       "      <td>2018-07-01</td>\n",
       "      <td>296.8</td>\n",
       "      <td>297.565550</td>\n",
       "      <td>0.002573</td>\n",
       "    </tr>\n",
       "    <tr>\n",
       "      <th>1</th>\n",
       "      <td>2018-08-01</td>\n",
       "      <td>255.5</td>\n",
       "      <td>292.652187</td>\n",
       "      <td>0.126950</td>\n",
       "    </tr>\n",
       "    <tr>\n",
       "      <th>2</th>\n",
       "      <td>2018-09-01</td>\n",
       "      <td>225.2</td>\n",
       "      <td>233.998916</td>\n",
       "      <td>0.037602</td>\n",
       "    </tr>\n",
       "    <tr>\n",
       "      <th>3</th>\n",
       "      <td>2018-10-01</td>\n",
       "      <td>204.5</td>\n",
       "      <td>190.085733</td>\n",
       "      <td>0.075830</td>\n",
       "    </tr>\n",
       "    <tr>\n",
       "      <th>4</th>\n",
       "      <td>2018-11-01</td>\n",
       "      <td>245.3</td>\n",
       "      <td>216.597421</td>\n",
       "      <td>0.132516</td>\n",
       "    </tr>\n",
       "  </tbody>\n",
       "</table>\n",
       "</div>"
      ],
      "text/plain": [
       "   YEARMONTH  totSales_target_store  controlSales_control_store  \\\n",
       "0 2018-07-01                  296.8                  297.565550   \n",
       "1 2018-08-01                  255.5                  292.652187   \n",
       "2 2018-09-01                  225.2                  233.998916   \n",
       "3 2018-10-01                  204.5                  190.085733   \n",
       "4 2018-11-01                  245.3                  216.597421   \n",
       "\n",
       "   percentageDiff  \n",
       "0        0.002573  \n",
       "1        0.126950  \n",
       "2        0.037602  \n",
       "3        0.075830  \n",
       "4        0.132516  "
      ]
     },
     "execution_count": 91,
     "metadata": {},
     "output_type": "execute_result"
    }
   ],
   "source": [
    "percentageDiff_sales = pd.DataFrame({'YEARMONTH': time_series,\n",
    "             'totSales_target_store': totSales_target_store,\n",
    "             'controlSales_control_store': controlSales_control_store,\n",
    "             'percentageDiff': abs(controlSales_control_store - totSales_target_store)/controlSales_control_store})\n",
    "\n",
    "\n",
    "percentageDiff_sales.head()\n",
    "\n",
    "\n",
    "\n"
   ]
  },
  {
   "cell_type": "markdown",
   "metadata": {},
   "source": [
    "Let's see if difference is significant\n",
    "\n",
    "As our null hypothesis is that trial period is the same as the pre-trial\n",
    "\n",
    "Let's take the standard deviation based on the scaled percentage difference in pre-trial period"
   ]
  },
  {
   "cell_type": "markdown",
   "metadata": {},
   "source": [
    "Note that there are 7 months in the pre-trial period<br>\n",
    "hence 7-1 = 6 degrees of freedom<br>\n",
    "\n",
    "We will test with a null hypothesis of there being 0 differnce between trial and control stores\n",
    "\n",
    "Calculate the t-values for the trial months. After that, find the 95th percentage of the t distribution with the appropriate degrees of freedom\n",
    "\n",
    "To check wheather the hypothesis is statistical significant\n",
    "\n",
    "Construct t statistic test $\\frac{x-\\mu}{\\text{standard deviation}}$"
   ]
  },
  {
   "cell_type": "code",
   "execution_count": 92,
   "metadata": {},
   "outputs": [
    {
     "data": {
      "text/plain": [
       "(6, 0.049940762641425544)"
      ]
     },
     "execution_count": 92,
     "metadata": {},
     "output_type": "execute_result"
    }
   ],
   "source": [
    "\n",
    "degreeOfFreedom = len(percentageDiff_sales[percentageDiff_sales['YEARMONTH'] < '2019-02-01']['percentageDiff']) - 1\n",
    "stdDev = stats.tstd(percentageDiff_sales[percentageDiff_sales['YEARMONTH'] < '2019-02-01']['percentageDiff'].values)\n",
    "\n",
    "degreeOfFreedom, stdDev"
   ]
  },
  {
   "cell_type": "code",
   "execution_count": 93,
   "metadata": {},
   "outputs": [
    {
     "data": {
      "text/html": [
       "<div>\n",
       "<style scoped>\n",
       "    .dataframe tbody tr th:only-of-type {\n",
       "        vertical-align: middle;\n",
       "    }\n",
       "\n",
       "    .dataframe tbody tr th {\n",
       "        vertical-align: top;\n",
       "    }\n",
       "\n",
       "    .dataframe thead th {\n",
       "        text-align: right;\n",
       "    }\n",
       "</style>\n",
       "<table border=\"1\" class=\"dataframe\">\n",
       "  <thead>\n",
       "    <tr style=\"text-align: right;\">\n",
       "      <th></th>\n",
       "      <th>TransactionMonth</th>\n",
       "      <th>tValue</th>\n",
       "    </tr>\n",
       "  </thead>\n",
       "  <tbody>\n",
       "    <tr>\n",
       "      <th>7</th>\n",
       "      <td>2019-02-01</td>\n",
       "      <td>1.183534</td>\n",
       "    </tr>\n",
       "    <tr>\n",
       "      <th>8</th>\n",
       "      <td>2019-03-01</td>\n",
       "      <td>7.339116</td>\n",
       "    </tr>\n",
       "    <tr>\n",
       "      <th>9</th>\n",
       "      <td>2019-04-01</td>\n",
       "      <td>12.476373</td>\n",
       "    </tr>\n",
       "  </tbody>\n",
       "</table>\n",
       "</div>"
      ],
      "text/plain": [
       "  TransactionMonth     tValue\n",
       "7       2019-02-01   1.183534\n",
       "8       2019-03-01   7.339116\n",
       "9       2019-04-01  12.476373"
      ]
     },
     "execution_count": 93,
     "metadata": {},
     "output_type": "execute_result"
    }
   ],
   "source": [
    "# percentageDiff_sales[(percentageDiff_sales['YEARMONTH'] > '2019-01-01') & (percentageDiff_sales['YEARMONTH'] < '2019-05-01')]['percentageDiff'].values/stdDev\n",
    "\n",
    "t_test_table_sales = pd.DataFrame({'TransactionMonth': percentageDiff_sales[(percentageDiff_sales['YEARMONTH'] > '2019-01-01') & (percentageDiff_sales['YEARMONTH'] < '2019-05-01')]['YEARMONTH'],\n",
    "                            'tValue': percentageDiff_sales[(percentageDiff_sales['YEARMONTH'] > '2019-01-01') & (percentageDiff_sales['YEARMONTH'] < '2019-05-01')]['percentageDiff'].values/stdDev})\n",
    "\n",
    "t_test_table_sales\n",
    "\n"
   ]
  },
  {
   "cell_type": "markdown",
   "metadata": {},
   "source": [
    "Find the 95th percentile of the t distribution with the appropriate degrees of freedom to compare against"
   ]
  },
  {
   "cell_type": "code",
   "execution_count": 138,
   "metadata": {},
   "outputs": [
    {
     "data": {
      "text/plain": [
       "2.4469118487916806"
      ]
     },
     "execution_count": 138,
     "metadata": {},
     "output_type": "execute_result"
    }
   ],
   "source": [
    "stats.t(df = degreeOfFreedom).ppf(0.975)"
   ]
  },
  {
   "cell_type": "markdown",
   "metadata": {},
   "source": [
    "We can observe that t-value is much larger than the 95th percentile value of the t-distribution for March and April - i.e the increase in sales in the trial store in March and April is statistically  greater than in the control store. Let's create a more visual version of the trial stores and 95th percentile value of sales of the control store."
   ]
  },
  {
   "cell_type": "code",
   "execution_count": 124,
   "metadata": {},
   "outputs": [],
   "source": [
    "def plot_ready_feature(target_store, control_store, feature, stdDev, df = measureOverTimeSales):\n",
    "    pastSales = measureOverTimeSales[measureOverTimeSales['STORE_NBR'].isin([target_store, control_store])]\n",
    "    Control95 = pastSales[pastSales['STORE_NBR'] == control_store][feature].values*(1+stdDev*2)\n",
    "    Control5 =  pastSales[pastSales['STORE_NBR'] == control_store][feature].values*(1-stdDev*2)\n",
    "    Trial = pastSales[pastSales['STORE_NBR'] == target_store][feature].values\n",
    "    Control = pastSales[pastSales['STORE_NBR'] == control_store][feature].values\n",
    "    \n",
    "    all_feature = pd.DataFrame({'YEARMONTH': pastSales['YEARMONTH'].unique(),\n",
    "             'Control95': Control95,\n",
    "             'Control5': Control5,\n",
    "             'Trial': Trial,\n",
    "             'Control': Control})\n",
    "    plot_ready_all_feature = pd.melt(all_feature, \n",
    "        id_vars = ['YEARMONTH'], \n",
    "        value_vars = ['Control95', 'Control5', 'Trial', 'Control'],\n",
    "       var_name = 'store_type', \n",
    "       value_name = feature)\n",
    "    return plot_ready_all_feature\n",
    "\n",
    "def plot_overtime_between_control_trial(feature, df):\n",
    "    plt.figure(figsize = (10, 10))\n",
    "    ax = sns.lineplot(data = df, x = 'YEARMONTH', y = feature, hue = 'store_type');\n",
    "    plt.ylim(0)\n",
    "    ymin, ymax = plt.ylim()\n",
    "    height = ymax - ymin\n",
    "    interval = plt.xticks()[0][4] - plt.xticks()[0][3]\n",
    "    ax.set_xticks(df['YEARMONTH'].unique())\n",
    "    ax.add_patch(plt.Rectangle((plt.xticks()[0][8] - interval/2, ymin), \n",
    "                         interval, height, \n",
    "                         fill = True, \n",
    "                         alpha = 0.3))\n",
    "    ax.lines[0].set_linestyle(':')\n",
    "    ax.lines[1].set_linestyle(':')\n",
    "    plt.xticks(rotation = 45)\n",
    "    sns.despine();\n",
    "\n",
    "\n"
   ]
  },
  {
   "cell_type": "code",
   "execution_count": 125,
   "metadata": {},
   "outputs": [],
   "source": [
    "plot_ready_all_totSales = plot_ready_feature(77, 233, 'totSales', stdDev)\n",
    "plot_overtime_between_control_trial('totSales', plot_ready_all_totSales)"
   ]
  },
  {
   "cell_type": "markdown",
   "metadata": {},
   "source": [
    "The results show that the trial in store 77 is significant different to its control store in the trial period as the trial store performance lies outside the 5% to 95% confidence interval of the control store in two of the three trial months. Let's have a look at assessing this for number of customers as well."
   ]
  },
  {
   "cell_type": "markdown",
   "metadata": {},
   "source": [
    "Let's have a look at assessing this for number of customers as well.\n"
   ]
  },
  {
   "cell_type": "code",
   "execution_count": 94,
   "metadata": {},
   "outputs": [],
   "source": [
    "# This would be a repeat of the steps before for total sales\n",
    "# Scale pre-trial control customers to match pre-trial store customers\n",
    "# Compute a scaling factor to align control store customer counts to our trial store\n",
    "# Then, apply the scaling factor to control store customer counts\n",
    "# Finally, calculate the percentage difference between scaled control store customers and trial customer\n",
    "\n",
    "scalingFactorForControlsCust = preTrialMeasures[preTrialMeasures['STORE_NBR'] == target_store]['nCustomers'].sum()/preTrialMeasures[preTrialMeasures['STORE_NBR'] == control_store]['nCustomers'].sum()\n",
    "nCust_control_store = measureOverTimeSales[measureOverTimeSales['STORE_NBR'] == control_store]['nCustomers'].values*scalingFactorForControlsCust\n",
    "nCust_target_store = measureOverTimeSales[measureOverTimeSales['STORE_NBR'] == target_store]['nCustomers'].values\n",
    "time_series = measureOverTimeSales[measureOverTimeSales['STORE_NBR'] == control_store]['YEARMONTH'].values\n",
    "\n"
   ]
  },
  {
   "cell_type": "code",
   "execution_count": 100,
   "metadata": {},
   "outputs": [
    {
     "data": {
      "text/html": [
       "<div>\n",
       "<style scoped>\n",
       "    .dataframe tbody tr th:only-of-type {\n",
       "        vertical-align: middle;\n",
       "    }\n",
       "\n",
       "    .dataframe tbody tr th {\n",
       "        vertical-align: top;\n",
       "    }\n",
       "\n",
       "    .dataframe thead th {\n",
       "        text-align: right;\n",
       "    }\n",
       "</style>\n",
       "<table border=\"1\" class=\"dataframe\">\n",
       "  <thead>\n",
       "    <tr style=\"text-align: right;\">\n",
       "      <th></th>\n",
       "      <th>YEARMONTH</th>\n",
       "      <th>nCust_target_store</th>\n",
       "      <th>controlnCust_control_store</th>\n",
       "      <th>percentageDiff</th>\n",
       "    </tr>\n",
       "  </thead>\n",
       "  <tbody>\n",
       "    <tr>\n",
       "      <th>0</th>\n",
       "      <td>2018-07-01</td>\n",
       "      <td>51</td>\n",
       "      <td>51.171141</td>\n",
       "      <td>0.003344</td>\n",
       "    </tr>\n",
       "    <tr>\n",
       "      <th>1</th>\n",
       "      <td>2018-08-01</td>\n",
       "      <td>47</td>\n",
       "      <td>48.161074</td>\n",
       "      <td>0.024108</td>\n",
       "    </tr>\n",
       "    <tr>\n",
       "      <th>2</th>\n",
       "      <td>2018-09-01</td>\n",
       "      <td>42</td>\n",
       "      <td>42.140940</td>\n",
       "      <td>0.003344</td>\n",
       "    </tr>\n",
       "    <tr>\n",
       "      <th>3</th>\n",
       "      <td>2018-10-01</td>\n",
       "      <td>37</td>\n",
       "      <td>35.117450</td>\n",
       "      <td>0.053607</td>\n",
       "    </tr>\n",
       "    <tr>\n",
       "      <th>4</th>\n",
       "      <td>2018-11-01</td>\n",
       "      <td>41</td>\n",
       "      <td>40.134228</td>\n",
       "      <td>0.021572</td>\n",
       "    </tr>\n",
       "  </tbody>\n",
       "</table>\n",
       "</div>"
      ],
      "text/plain": [
       "   YEARMONTH  nCust_target_store  controlnCust_control_store  percentageDiff\n",
       "0 2018-07-01                  51                   51.171141        0.003344\n",
       "1 2018-08-01                  47                   48.161074        0.024108\n",
       "2 2018-09-01                  42                   42.140940        0.003344\n",
       "3 2018-10-01                  37                   35.117450        0.053607\n",
       "4 2018-11-01                  41                   40.134228        0.021572"
      ]
     },
     "execution_count": 100,
     "metadata": {},
     "output_type": "execute_result"
    }
   ],
   "source": [
    "percentageDiff_nCust = pd.DataFrame({'YEARMONTH': time_series,\n",
    "             'nCust_target_store': nCust_target_store,\n",
    "             'controlnCust_control_store': nCust_control_store,\n",
    "             'percentageDiff': abs(nCust_control_store - nCust_target_store)/nCust_control_store})\n",
    "\n",
    "\n",
    "percentageDiff_nCust.head()"
   ]
  },
  {
   "cell_type": "code",
   "execution_count": 102,
   "metadata": {},
   "outputs": [
    {
     "data": {
      "text/plain": [
       "(6, 0.01824074855824395)"
      ]
     },
     "execution_count": 102,
     "metadata": {},
     "output_type": "execute_result"
    }
   ],
   "source": [
    "degreeOfFreedom = len(percentageDiff_nCust[percentageDiff_nCust['YEARMONTH'] < '2019-02-01']['percentageDiff']) - 1\n",
    "stdDev = stats.tstd(percentageDiff_nCust[percentageDiff_nCust['YEARMONTH'] < '2019-02-01']['percentageDiff'].values)\n",
    "\n",
    "degreeOfFreedom, stdDev\n"
   ]
  },
  {
   "cell_type": "code",
   "execution_count": 103,
   "metadata": {},
   "outputs": [
    {
     "data": {
      "text/html": [
       "<div>\n",
       "<style scoped>\n",
       "    .dataframe tbody tr th:only-of-type {\n",
       "        vertical-align: middle;\n",
       "    }\n",
       "\n",
       "    .dataframe tbody tr th {\n",
       "        vertical-align: top;\n",
       "    }\n",
       "\n",
       "    .dataframe thead th {\n",
       "        text-align: right;\n",
       "    }\n",
       "</style>\n",
       "<table border=\"1\" class=\"dataframe\">\n",
       "  <thead>\n",
       "    <tr style=\"text-align: right;\">\n",
       "      <th></th>\n",
       "      <th>TransactionMonth</th>\n",
       "      <th>tValue</th>\n",
       "    </tr>\n",
       "  </thead>\n",
       "  <tbody>\n",
       "    <tr>\n",
       "      <th>7</th>\n",
       "      <td>2019-02-01</td>\n",
       "      <td>0.183352</td>\n",
       "    </tr>\n",
       "    <tr>\n",
       "      <th>8</th>\n",
       "      <td>2019-03-01</td>\n",
       "      <td>13.476388</td>\n",
       "    </tr>\n",
       "    <tr>\n",
       "      <th>9</th>\n",
       "      <td>2019-04-01</td>\n",
       "      <td>30.778725</td>\n",
       "    </tr>\n",
       "  </tbody>\n",
       "</table>\n",
       "</div>"
      ],
      "text/plain": [
       "  TransactionMonth     tValue\n",
       "7       2019-02-01   0.183352\n",
       "8       2019-03-01  13.476388\n",
       "9       2019-04-01  30.778725"
      ]
     },
     "execution_count": 103,
     "metadata": {},
     "output_type": "execute_result"
    }
   ],
   "source": [
    "t_test_table_nCust = pd.DataFrame({'TransactionMonth': percentageDiff_nCust[(percentageDiff_nCust['YEARMONTH'] > '2019-01-01') & (percentageDiff_nCust['YEARMONTH'] < '2019-05-01')]['YEARMONTH'],\n",
    "                            'tValue': percentageDiff_nCust[(percentageDiff_nCust['YEARMONTH'] > '2019-01-01') & (percentageDiff_nCust['YEARMONTH'] < '2019-05-01')]['percentageDiff'].values/stdDev})\n",
    "\n",
    "t_test_table_nCust"
   ]
  },
  {
   "cell_type": "code",
   "execution_count": 139,
   "metadata": {},
   "outputs": [
    {
     "data": {
      "text/plain": [
       "2.4469118487916806"
      ]
     },
     "execution_count": 139,
     "metadata": {},
     "output_type": "execute_result"
    }
   ],
   "source": [
    "stats.t(df = degreeOfFreedom).ppf(0.975)"
   ]
  },
  {
   "cell_type": "code",
   "execution_count": 127,
   "metadata": {},
   "outputs": [
    {
     "data": {
      "image/png": "[encoded data removed]",
      "text/plain": [
       "<Figure size 720x720 with 1 Axes>"
      ]
     },
     "metadata": {
      "needs_background": "light"
     },
     "output_type": "display_data"
    }
   ],
   "source": [
    "plot_ready_all_nCust = plot_ready_feature(77, 233, 'nCustomers', stdDev)\n",
    "plot_overtime_between_control_trial('nCustomers', plot_ready_all_nCust)"
   ]
  },
  {
   "cell_type": "markdown",
   "metadata": {},
   "source": [
    "## Store 86\n",
    "\n",
    "Let's repeat finding the control and assessing the impact of the trial for each of the other two trial. stores # Trial Store 86"
   ]
  },
  {
   "cell_type": "markdown",
   "metadata": {},
   "source": [
    "### Sales"
   ]
  },
  {
   "cell_type": "code",
   "execution_count": 107,
   "metadata": {},
   "outputs": [],
   "source": [
    "correlation_totSales = correlation_table_by_feature(86, 'totSales')\n",
    "correlation_nCustomers = correlation_table_by_feature(86, 'nCustomers')\n",
    "magDis_totSales = magnitude_distance_by_feature(86, 'totSales')\n",
    "magDis_nCustomers = magnitude_distance_by_feature(86, 'nCustomers')"
   ]
  },
  {
   "cell_type": "code",
   "execution_count": 108,
   "metadata": {},
   "outputs": [],
   "source": [
    "data_frames = [correlation_totSales, correlation_nCustomers, magDis_totSales, magDis_nCustomers]\n",
    "df_merged = reduce(lambda left, right: pd.merge(left, right, on = ['target_store', 'compared_store'], how = 'left'), data_frames)"
   ]
  },
  {
   "cell_type": "code",
   "execution_count": 109,
   "metadata": {},
   "outputs": [
    {
     "data": {
      "text/html": [
       "<div>\n",
       "<style scoped>\n",
       "    .dataframe tbody tr th:only-of-type {\n",
       "        vertical-align: middle;\n",
       "    }\n",
       "\n",
       "    .dataframe tbody tr th {\n",
       "        vertical-align: top;\n",
       "    }\n",
       "\n",
       "    .dataframe thead th {\n",
       "        text-align: right;\n",
       "    }\n",
       "</style>\n",
       "<table border=\"1\" class=\"dataframe\">\n",
       "  <thead>\n",
       "    <tr style=\"text-align: right;\">\n",
       "      <th></th>\n",
       "      <th>target_store</th>\n",
       "      <th>compared_store</th>\n",
       "      <th>correlation_x</th>\n",
       "      <th>correlation_y</th>\n",
       "      <th>magnitude_distance_x</th>\n",
       "      <th>magnitude_distance_y</th>\n",
       "      <th>finalControlScore</th>\n",
       "    </tr>\n",
       "  </thead>\n",
       "  <tbody>\n",
       "    <tr>\n",
       "      <th>80</th>\n",
       "      <td>86</td>\n",
       "      <td>86</td>\n",
       "      <td>1.000000</td>\n",
       "      <td>1.000000</td>\n",
       "      <td>1.000000</td>\n",
       "      <td>1.000000</td>\n",
       "      <td>1.00000</td>\n",
       "    </tr>\n",
       "    <tr>\n",
       "      <th>147</th>\n",
       "      <td>86</td>\n",
       "      <td>155</td>\n",
       "      <td>0.877882</td>\n",
       "      <td>0.942876</td>\n",
       "      <td>0.962964</td>\n",
       "      <td>0.985037</td>\n",
       "      <td>0.94219</td>\n",
       "    </tr>\n",
       "  </tbody>\n",
       "</table>\n",
       "</div>"
      ],
      "text/plain": [
       "     target_store  compared_store  correlation_x  correlation_y  \\\n",
       "80             86              86       1.000000       1.000000   \n",
       "147            86             155       0.877882       0.942876   \n",
       "\n",
       "     magnitude_distance_x  magnitude_distance_y  finalControlScore  \n",
       "80               1.000000              1.000000            1.00000  \n",
       "147              0.962964              0.985037            0.94219  "
      ]
     },
     "execution_count": 109,
     "metadata": {},
     "output_type": "execute_result"
    }
   ],
   "source": [
    "corr_weight = 0.5\n",
    "df_merged['finalControlScore'] = corr_weight*(corr_weight*df_merged['correlation_x'] + (1 - corr_weight)*df_merged['magnitude_distance_x']) + (1-corr_weight)*(corr_weight*df_merged['correlation_y'] + (1 - corr_weight)*df_merged['magnitude_distance_y'])\n",
    "df_merged.sort_values('finalControlScore', ascending = False).head(2)            "
   ]
  },
  {
   "cell_type": "code",
   "execution_count": 110,
   "metadata": {},
   "outputs": [
    {
     "name": "stdout",
     "output_type": "stream",
     "text": [
      "control store:  155 target store:  86\n"
     ]
    }
   ],
   "source": [
    "control_store = df_merged.sort_values('finalControlScore', ascending = False).iloc[1][1].astype(int)\n",
    "target_store = 86\n",
    "print('control store: ', control_store, 'target store: ', target_store)"
   ]
  },
  {
   "cell_type": "code",
   "execution_count": 111,
   "metadata": {},
   "outputs": [],
   "source": [
    "measureOverTimeSales = measureOverTime.reset_index()\n",
    "conditions = [(measureOverTimeSales['STORE_NBR'] == target_store),\n",
    "             (measureOverTimeSales['STORE_NBR'] == control_store),\n",
    "             (~measureOverTimeSales['STORE_NBR'].isin([target_store, control_store]))]\n",
    "values = ['Trial', 'Control', 'Other Stores']\n",
    "measureOverTimeSales['store_type'] = np.select(conditions, values)"
   ]
  },
  {
   "cell_type": "code",
   "execution_count": 120,
   "metadata": {},
   "outputs": [],
   "source": [
    "lineplot_ready_totSales = measureOverTimeSales.groupby(['YEARMONTH', 'store_type'])['totSales'].mean().reset_index()\n",
    "lineplot_ready_totSales = lineplot_ready_totSales[lineplot_ready_totSales['YEARMONTH'] < '2019-03-01']"
   ]
  },
  {
   "cell_type": "code",
   "execution_count": 121,
   "metadata": {},
   "outputs": [
    {
     "data": {
      "image/png": "[encoded data removed]",
      "text/plain": [
       "<Figure size 432x288 with 1 Axes>"
      ]
     },
     "metadata": {
      "needs_background": "light"
     },
     "output_type": "display_data"
    }
   ],
   "source": [
    "sns.lineplot(data = lineplot_ready_totSales, x = 'YEARMONTH', y = 'totSales', hue = 'store_type');"
   ]
  },
  {
   "cell_type": "code",
   "execution_count": 122,
   "metadata": {},
   "outputs": [],
   "source": [
    "lineplot_ready_nCustomers =  measureOverTimeSales.groupby(['YEARMONTH', 'store_type'])['nCustomers'].mean().reset_index()\n",
    "lineplot_ready_nCustomers = lineplot_ready_nCustomers[lineplot_ready_nCustomers['YEARMONTH'] < '2019-03-01']\n"
   ]
  },
  {
   "cell_type": "code",
   "execution_count": 123,
   "metadata": {},
   "outputs": [
    {
     "data": {
      "image/png": "[encoded data removed]",
      "text/plain": [
       "<Figure size 432x288 with 1 Axes>"
      ]
     },
     "metadata": {
      "needs_background": "light"
     },
     "output_type": "display_data"
    }
   ],
   "source": [
    "sns.lineplot(data = lineplot_ready_nCustomers, x = 'YEARMONTH', y = 'nCustomers', hue = 'store_type');"
   ]
  },
  {
   "cell_type": "markdown",
   "metadata": {},
   "source": [
    "Looks like store 155 will be a control store for trial store 86. Again, let's check visually if the drivers are indeed similar in the period before the trial.Sales are trending in a similar way. The trend in number of customers is also similar. \n",
    "\n",
    "Let's now assess the impact of the trial on sales\n"
   ]
  },
  {
   "cell_type": "code",
   "execution_count": 128,
   "metadata": {},
   "outputs": [],
   "source": [
    "# scale pre-trial control sales to match pre-trial store sales\n",
    "#scalingFactorForControlSales \n",
    "scalingFactorForControlsSales = preTrialMeasures[preTrialMeasures['STORE_NBR'] == target_store]['totSales'].sum()/preTrialMeasures[preTrialMeasures['STORE_NBR'] == control_store]['totSales'].sum()\n",
    "controlSales_control_store = measureOverTimeSales[measureOverTimeSales['STORE_NBR'] == control_store]['totSales'].values*scalingFactorForControlsSales\n",
    "totSales_target_store = measureOverTimeSales[measureOverTimeSales['STORE_NBR'] == target_store]['totSales'].values\n",
    "time_series = measureOverTimeSales[measureOverTimeSales['STORE_NBR'] == control_store]['YEARMONTH'].values\n"
   ]
  },
  {
   "cell_type": "code",
   "execution_count": 129,
   "metadata": {},
   "outputs": [
    {
     "data": {
      "text/html": [
       "<div>\n",
       "<style scoped>\n",
       "    .dataframe tbody tr th:only-of-type {\n",
       "        vertical-align: middle;\n",
       "    }\n",
       "\n",
       "    .dataframe tbody tr th {\n",
       "        vertical-align: top;\n",
       "    }\n",
       "\n",
       "    .dataframe thead th {\n",
       "        text-align: right;\n",
       "    }\n",
       "</style>\n",
       "<table border=\"1\" class=\"dataframe\">\n",
       "  <thead>\n",
       "    <tr style=\"text-align: right;\">\n",
       "      <th></th>\n",
       "      <th>YEARMONTH</th>\n",
       "      <th>totSales_target_store</th>\n",
       "      <th>controlSales_control_store</th>\n",
       "      <th>percentageDiff</th>\n",
       "    </tr>\n",
       "  </thead>\n",
       "  <tbody>\n",
       "    <tr>\n",
       "      <th>0</th>\n",
       "      <td>2018-07-01</td>\n",
       "      <td>892.20</td>\n",
       "      <td>896.922236</td>\n",
       "      <td>0.005265</td>\n",
       "    </tr>\n",
       "    <tr>\n",
       "      <th>1</th>\n",
       "      <td>2018-08-01</td>\n",
       "      <td>764.05</td>\n",
       "      <td>759.269991</td>\n",
       "      <td>0.006296</td>\n",
       "    </tr>\n",
       "    <tr>\n",
       "      <th>2</th>\n",
       "      <td>2018-09-01</td>\n",
       "      <td>914.60</td>\n",
       "      <td>984.034086</td>\n",
       "      <td>0.070561</td>\n",
       "    </tr>\n",
       "    <tr>\n",
       "      <th>3</th>\n",
       "      <td>2018-10-01</td>\n",
       "      <td>948.40</td>\n",
       "      <td>934.948790</td>\n",
       "      <td>0.014387</td>\n",
       "    </tr>\n",
       "    <tr>\n",
       "      <th>4</th>\n",
       "      <td>2018-11-01</td>\n",
       "      <td>918.00</td>\n",
       "      <td>871.894555</td>\n",
       "      <td>0.052880</td>\n",
       "    </tr>\n",
       "  </tbody>\n",
       "</table>\n",
       "</div>"
      ],
      "text/plain": [
       "   YEARMONTH  totSales_target_store  controlSales_control_store  \\\n",
       "0 2018-07-01                 892.20                  896.922236   \n",
       "1 2018-08-01                 764.05                  759.269991   \n",
       "2 2018-09-01                 914.60                  984.034086   \n",
       "3 2018-10-01                 948.40                  934.948790   \n",
       "4 2018-11-01                 918.00                  871.894555   \n",
       "\n",
       "   percentageDiff  \n",
       "0        0.005265  \n",
       "1        0.006296  \n",
       "2        0.070561  \n",
       "3        0.014387  \n",
       "4        0.052880  "
      ]
     },
     "execution_count": 129,
     "metadata": {},
     "output_type": "execute_result"
    }
   ],
   "source": [
    "percentageDiff_sales = pd.DataFrame({'YEARMONTH': time_series,\n",
    "             'totSales_target_store': totSales_target_store,\n",
    "             'controlSales_control_store': controlSales_control_store,\n",
    "             'percentageDiff': abs(controlSales_control_store - totSales_target_store)/controlSales_control_store})\n",
    "percentageDiff_sales.head()\n"
   ]
  },
  {
   "cell_type": "code",
   "execution_count": 130,
   "metadata": {},
   "outputs": [
    {
     "data": {
      "text/plain": [
       "(6, 0.025833952854772586)"
      ]
     },
     "execution_count": 130,
     "metadata": {},
     "output_type": "execute_result"
    }
   ],
   "source": [
    "degreeOfFreedom = len(percentageDiff_sales[percentageDiff_sales['YEARMONTH'] < '2019-02-01']['percentageDiff']) - 1\n",
    "stdDev = stats.tstd(percentageDiff_sales[percentageDiff_sales['YEARMONTH'] < '2019-02-01']['percentageDiff'].values)\n",
    "\n",
    "degreeOfFreedom, stdDev"
   ]
  },
  {
   "cell_type": "code",
   "execution_count": 131,
   "metadata": {},
   "outputs": [
    {
     "data": {
      "text/html": [
       "<div>\n",
       "<style scoped>\n",
       "    .dataframe tbody tr th:only-of-type {\n",
       "        vertical-align: middle;\n",
       "    }\n",
       "\n",
       "    .dataframe tbody tr th {\n",
       "        vertical-align: top;\n",
       "    }\n",
       "\n",
       "    .dataframe thead th {\n",
       "        text-align: right;\n",
       "    }\n",
       "</style>\n",
       "<table border=\"1\" class=\"dataframe\">\n",
       "  <thead>\n",
       "    <tr style=\"text-align: right;\">\n",
       "      <th></th>\n",
       "      <th>TransactionMonth</th>\n",
       "      <th>tValue</th>\n",
       "    </tr>\n",
       "  </thead>\n",
       "  <tbody>\n",
       "    <tr>\n",
       "      <th>7</th>\n",
       "      <td>2019-02-01</td>\n",
       "      <td>2.179542</td>\n",
       "    </tr>\n",
       "    <tr>\n",
       "      <th>8</th>\n",
       "      <td>2019-03-01</td>\n",
       "      <td>12.226922</td>\n",
       "    </tr>\n",
       "    <tr>\n",
       "      <th>9</th>\n",
       "      <td>2019-04-01</td>\n",
       "      <td>1.364580</td>\n",
       "    </tr>\n",
       "  </tbody>\n",
       "</table>\n",
       "</div>"
      ],
      "text/plain": [
       "  TransactionMonth     tValue\n",
       "7       2019-02-01   2.179542\n",
       "8       2019-03-01  12.226922\n",
       "9       2019-04-01   1.364580"
      ]
     },
     "execution_count": 131,
     "metadata": {},
     "output_type": "execute_result"
    }
   ],
   "source": [
    "t_test_table_sales = pd.DataFrame({'TransactionMonth': percentageDiff_sales[(percentageDiff_sales['YEARMONTH'] > '2019-01-01') & (percentageDiff_sales['YEARMONTH'] < '2019-05-01')]['YEARMONTH'],\n",
    "                            'tValue': percentageDiff_sales[(percentageDiff_sales['YEARMONTH'] > '2019-01-01') & (percentageDiff_sales['YEARMONTH'] < '2019-05-01')]['percentageDiff'].values/stdDev})\n",
    "t_test_table_sales"
   ]
  },
  {
   "cell_type": "code",
   "execution_count": 140,
   "metadata": {},
   "outputs": [
    {
     "data": {
      "text/plain": [
       "2.4469118487916806"
      ]
     },
     "execution_count": 140,
     "metadata": {},
     "output_type": "execute_result"
    }
   ],
   "source": [
    "stats.t(df = degreeOfFreedom).ppf(0.975)"
   ]
  },
  {
   "cell_type": "code",
   "execution_count": 133,
   "metadata": {},
   "outputs": [
    {
     "data": {
      "image/png": "[encoded data removed]",
      "text/plain": [
       "<Figure size 720x720 with 1 Axes>"
      ]
     },
     "metadata": {
      "needs_background": "light"
     },
     "output_type": "display_data"
    }
   ],
   "source": [
    "plot_ready_all_totSales = plot_ready_feature(86, 155, 'totSales', stdDev)\n",
    "plot_overtime_between_control_trial('totSales', plot_ready_all_totSales)"
   ]
  },
  {
   "cell_type": "markdown",
   "metadata": {},
   "source": [
    "### Number of Customers"
   ]
  },
  {
   "cell_type": "code",
   "execution_count": 145,
   "metadata": {},
   "outputs": [],
   "source": [
    "scalingFactorForControlsCust = preTrialMeasures[preTrialMeasures['STORE_NBR'] == target_store]['nCustomers'].sum()/preTrialMeasures[preTrialMeasures['STORE_NBR'] == control_store]['nCustomers'].sum()\n",
    "nCust_control_store = measureOverTimeSales[measureOverTimeSales['STORE_NBR'] == control_store]['nCustomers'].values*scalingFactorForControlsCust\n",
    "nCust_target_store = measureOverTimeSales[measureOverTimeSales['STORE_NBR'] == target_store]['nCustomers'].values\n",
    "time_series = measureOverTimeSales[measureOverTimeSales['STORE_NBR'] == control_store]['YEARMONTH'].values\n"
   ]
  },
  {
   "cell_type": "code",
   "execution_count": 146,
   "metadata": {},
   "outputs": [
    {
     "data": {
      "text/html": [
       "<div>\n",
       "<style scoped>\n",
       "    .dataframe tbody tr th:only-of-type {\n",
       "        vertical-align: middle;\n",
       "    }\n",
       "\n",
       "    .dataframe tbody tr th {\n",
       "        vertical-align: top;\n",
       "    }\n",
       "\n",
       "    .dataframe thead th {\n",
       "        text-align: right;\n",
       "    }\n",
       "</style>\n",
       "<table border=\"1\" class=\"dataframe\">\n",
       "  <thead>\n",
       "    <tr style=\"text-align: right;\">\n",
       "      <th></th>\n",
       "      <th>YEARMONTH</th>\n",
       "      <th>nCust_target_store</th>\n",
       "      <th>controlnCust_control_store</th>\n",
       "      <th>percentageDiff</th>\n",
       "    </tr>\n",
       "  </thead>\n",
       "  <tbody>\n",
       "    <tr>\n",
       "      <th>0</th>\n",
       "      <td>2018-07-01</td>\n",
       "      <td>99</td>\n",
       "      <td>101.0</td>\n",
       "      <td>0.019802</td>\n",
       "    </tr>\n",
       "    <tr>\n",
       "      <th>1</th>\n",
       "      <td>2018-08-01</td>\n",
       "      <td>94</td>\n",
       "      <td>91.0</td>\n",
       "      <td>0.032967</td>\n",
       "    </tr>\n",
       "    <tr>\n",
       "      <th>2</th>\n",
       "      <td>2018-09-01</td>\n",
       "      <td>103</td>\n",
       "      <td>103.0</td>\n",
       "      <td>0.000000</td>\n",
       "    </tr>\n",
       "    <tr>\n",
       "      <th>3</th>\n",
       "      <td>2018-10-01</td>\n",
       "      <td>109</td>\n",
       "      <td>108.0</td>\n",
       "      <td>0.009259</td>\n",
       "    </tr>\n",
       "    <tr>\n",
       "      <th>4</th>\n",
       "      <td>2018-11-01</td>\n",
       "      <td>100</td>\n",
       "      <td>101.0</td>\n",
       "      <td>0.009901</td>\n",
       "    </tr>\n",
       "  </tbody>\n",
       "</table>\n",
       "</div>"
      ],
      "text/plain": [
       "   YEARMONTH  nCust_target_store  controlnCust_control_store  percentageDiff\n",
       "0 2018-07-01                  99                       101.0        0.019802\n",
       "1 2018-08-01                  94                        91.0        0.032967\n",
       "2 2018-09-01                 103                       103.0        0.000000\n",
       "3 2018-10-01                 109                       108.0        0.009259\n",
       "4 2018-11-01                 100                       101.0        0.009901"
      ]
     },
     "execution_count": 146,
     "metadata": {},
     "output_type": "execute_result"
    }
   ],
   "source": [
    "percentageDiff_nCust = pd.DataFrame({'YEARMONTH': time_series,\n",
    "             'nCust_target_store': nCust_target_store,\n",
    "             'controlnCust_control_store': nCust_control_store,\n",
    "             'percentageDiff': abs(nCust_control_store - nCust_target_store)/nCust_control_store})\n",
    "\n",
    "\n",
    "percentageDiff_nCust.head()"
   ]
  },
  {
   "cell_type": "code",
   "execution_count": 147,
   "metadata": {},
   "outputs": [
    {
     "data": {
      "text/plain": [
       "(86, 155)"
      ]
     },
     "execution_count": 147,
     "metadata": {},
     "output_type": "execute_result"
    }
   ],
   "source": [
    "target_store, control_store"
   ]
  },
  {
   "cell_type": "code",
   "execution_count": 148,
   "metadata": {},
   "outputs": [
    {
     "data": {
      "text/plain": [
       "(6, 0.010687444701395238)"
      ]
     },
     "execution_count": 148,
     "metadata": {},
     "output_type": "execute_result"
    }
   ],
   "source": [
    "degreeOfFreedom = len(percentageDiff_nCust[percentageDiff_nCust['YEARMONTH'] < '2019-02-01']['percentageDiff']) - 1\n",
    "stdDev = stats.tstd(percentageDiff_nCust[percentageDiff_nCust['YEARMONTH'] < '2019-02-01']['percentageDiff'].values)\n",
    "\n",
    "degreeOfFreedom, stdDev"
   ]
  },
  {
   "cell_type": "code",
   "execution_count": 149,
   "metadata": {},
   "outputs": [
    {
     "data": {
      "text/html": [
       "<div>\n",
       "<style scoped>\n",
       "    .dataframe tbody tr th:only-of-type {\n",
       "        vertical-align: middle;\n",
       "    }\n",
       "\n",
       "    .dataframe tbody tr th {\n",
       "        vertical-align: top;\n",
       "    }\n",
       "\n",
       "    .dataframe thead th {\n",
       "        text-align: right;\n",
       "    }\n",
       "</style>\n",
       "<table border=\"1\" class=\"dataframe\">\n",
       "  <thead>\n",
       "    <tr style=\"text-align: right;\">\n",
       "      <th></th>\n",
       "      <th>TransactionMonth</th>\n",
       "      <th>tValue</th>\n",
       "    </tr>\n",
       "  </thead>\n",
       "  <tbody>\n",
       "    <tr>\n",
       "      <th>7</th>\n",
       "      <td>2019-02-01</td>\n",
       "      <td>11.819082</td>\n",
       "    </tr>\n",
       "    <tr>\n",
       "      <th>8</th>\n",
       "      <td>2019-03-01</td>\n",
       "      <td>20.903430</td>\n",
       "    </tr>\n",
       "    <tr>\n",
       "      <th>9</th>\n",
       "      <td>2019-04-01</td>\n",
       "      <td>5.670772</td>\n",
       "    </tr>\n",
       "  </tbody>\n",
       "</table>\n",
       "</div>"
      ],
      "text/plain": [
       "  TransactionMonth     tValue\n",
       "7       2019-02-01  11.819082\n",
       "8       2019-03-01  20.903430\n",
       "9       2019-04-01   5.670772"
      ]
     },
     "execution_count": 149,
     "metadata": {},
     "output_type": "execute_result"
    }
   ],
   "source": [
    "t_test_table_nCust = pd.DataFrame({'TransactionMonth': percentageDiff_nCust[(percentageDiff_nCust['YEARMONTH'] > '2019-01-01') & (percentageDiff_nCust['YEARMONTH'] < '2019-05-01')]['YEARMONTH'],\n",
    "                            'tValue': percentageDiff_nCust[(percentageDiff_nCust['YEARMONTH'] > '2019-01-01') & (percentageDiff_nCust['YEARMONTH'] < '2019-05-01')]['percentageDiff'].values/stdDev})\n",
    "\n",
    "t_test_table_nCust"
   ]
  },
  {
   "cell_type": "code",
   "execution_count": 150,
   "metadata": {},
   "outputs": [
    {
     "data": {
      "text/plain": [
       "2.4469118487916806"
      ]
     },
     "execution_count": 150,
     "metadata": {},
     "output_type": "execute_result"
    }
   ],
   "source": [
    "stats.t(df = degreeOfFreedom).ppf(0.975)"
   ]
  },
  {
   "cell_type": "code",
   "execution_count": 151,
   "metadata": {},
   "outputs": [
    {
     "data": {
      "image/png": "[encoded data removed]",
      "text/plain": [
       "<Figure size 720x720 with 1 Axes>"
      ]
     },
     "metadata": {
      "needs_background": "light"
     },
     "output_type": "display_data"
    }
   ],
   "source": [
    "plot_ready_all_nCust = plot_ready_feature(86, 155, 'nCustomers', stdDev)\n",
    "plot_overtime_between_control_trial('nCustomers', plot_ready_all_nCust)"
   ]
  },
  {
   "cell_type": "markdown",
   "metadata": {},
   "source": [
    "## Store 88"
   ]
  },
  {
   "cell_type": "code",
   "execution_count": 152,
   "metadata": {},
   "outputs": [],
   "source": [
    "correlation_totSales = correlation_table_by_feature(88, 'totSales')\n",
    "correlation_nCustomers = correlation_table_by_feature(88, 'nCustomers')\n",
    "magDis_totSales = magnitude_distance_by_feature(88, 'totSales')\n",
    "magDis_nCustomers = magnitude_distance_by_feature(88, 'nCustomers')"
   ]
  },
  {
   "cell_type": "code",
   "execution_count": 153,
   "metadata": {},
   "outputs": [],
   "source": [
    "data_frames = [correlation_totSales, correlation_nCustomers, magDis_totSales, magDis_nCustomers]\n",
    "df_merged = reduce(lambda left, right: pd.merge(left, right, on = ['target_store', 'compared_store'], how = 'left'), data_frames)"
   ]
  },
  {
   "cell_type": "code",
   "execution_count": 154,
   "metadata": {},
   "outputs": [
    {
     "data": {
      "text/html": [
       "<div>\n",
       "<style scoped>\n",
       "    .dataframe tbody tr th:only-of-type {\n",
       "        vertical-align: middle;\n",
       "    }\n",
       "\n",
       "    .dataframe tbody tr th {\n",
       "        vertical-align: top;\n",
       "    }\n",
       "\n",
       "    .dataframe thead th {\n",
       "        text-align: right;\n",
       "    }\n",
       "</style>\n",
       "<table border=\"1\" class=\"dataframe\">\n",
       "  <thead>\n",
       "    <tr style=\"text-align: right;\">\n",
       "      <th></th>\n",
       "      <th>target_store</th>\n",
       "      <th>compared_store</th>\n",
       "      <th>correlation_x</th>\n",
       "      <th>correlation_y</th>\n",
       "      <th>magnitude_distance_x</th>\n",
       "      <th>magnitude_distance_y</th>\n",
       "      <th>finalControlScore</th>\n",
       "    </tr>\n",
       "  </thead>\n",
       "  <tbody>\n",
       "    <tr>\n",
       "      <th>82</th>\n",
       "      <td>88</td>\n",
       "      <td>88</td>\n",
       "      <td>1.000000</td>\n",
       "      <td>1.000000</td>\n",
       "      <td>1.000000</td>\n",
       "      <td>1.000000</td>\n",
       "      <td>1.000000</td>\n",
       "    </tr>\n",
       "    <tr>\n",
       "      <th>225</th>\n",
       "      <td>88</td>\n",
       "      <td>237</td>\n",
       "      <td>0.308479</td>\n",
       "      <td>0.947326</td>\n",
       "      <td>0.956076</td>\n",
       "      <td>0.987586</td>\n",
       "      <td>0.799867</td>\n",
       "    </tr>\n",
       "  </tbody>\n",
       "</table>\n",
       "</div>"
      ],
      "text/plain": [
       "     target_store  compared_store  correlation_x  correlation_y  \\\n",
       "82             88              88       1.000000       1.000000   \n",
       "225            88             237       0.308479       0.947326   \n",
       "\n",
       "     magnitude_distance_x  magnitude_distance_y  finalControlScore  \n",
       "82               1.000000              1.000000           1.000000  \n",
       "225              0.956076              0.987586           0.799867  "
      ]
     },
     "execution_count": 154,
     "metadata": {},
     "output_type": "execute_result"
    }
   ],
   "source": [
    "corr_weight = 0.5\n",
    "df_merged['finalControlScore'] = corr_weight*(corr_weight*df_merged['correlation_x'] + (1 - corr_weight)*df_merged['magnitude_distance_x']) + (1-corr_weight)*(corr_weight*df_merged['correlation_y'] + (1 - corr_weight)*df_merged['magnitude_distance_y'])\n",
    "df_merged.sort_values('finalControlScore', ascending = False).head(2)"
   ]
  },
  {
   "cell_type": "code",
   "execution_count": 155,
   "metadata": {},
   "outputs": [
    {
     "name": "stdout",
     "output_type": "stream",
     "text": [
      "control store:  237 target store:  88\n"
     ]
    }
   ],
   "source": [
    "control_store = df_merged.sort_values('finalControlScore', ascending = False).iloc[1][1].astype(int)\n",
    "target_store = 88\n",
    "print('control store: ', control_store, 'target store: ', target_store)"
   ]
  },
  {
   "cell_type": "code",
   "execution_count": 156,
   "metadata": {},
   "outputs": [],
   "source": [
    "measureOverTimeSales = measureOverTime.reset_index()\n",
    "conditions = [(measureOverTimeSales['STORE_NBR'] == target_store),\n",
    "             (measureOverTimeSales['STORE_NBR'] == control_store),\n",
    "             (~measureOverTimeSales['STORE_NBR'].isin([target_store, control_store]))]\n",
    "values = ['Trial', 'Control', 'Other Stores']\n",
    "measureOverTimeSales['store_type'] = np.select(conditions, values)"
   ]
  },
  {
   "cell_type": "code",
   "execution_count": 157,
   "metadata": {},
   "outputs": [],
   "source": [
    "lineplot_ready_totSales = measureOverTimeSales.groupby(['YEARMONTH', 'store_type'])['totSales'].mean().reset_index()\n",
    "lineplot_ready_totSales = lineplot_ready_totSales[lineplot_ready_totSales['YEARMONTH'] < '2019-03-01']"
   ]
  },
  {
   "cell_type": "code",
   "execution_count": 158,
   "metadata": {},
   "outputs": [
    {
     "data": {
      "image/png": "[encoded data removed]",
      "text/plain": [
       "<Figure size 432x288 with 1 Axes>"
      ]
     },
     "metadata": {
      "needs_background": "light"
     },
     "output_type": "display_data"
    }
   ],
   "source": [
    "sns.lineplot(data = lineplot_ready_totSales, x = 'YEARMONTH', y = 'totSales', hue = 'store_type');"
   ]
  },
  {
   "cell_type": "code",
   "execution_count": 159,
   "metadata": {},
   "outputs": [],
   "source": [
    "lineplot_ready_nCustomers =  measureOverTimeSales.groupby(['YEARMONTH', 'store_type'])['nCustomers'].mean().reset_index()\n",
    "lineplot_ready_nCustomers = lineplot_ready_nCustomers[lineplot_ready_nCustomers['YEARMONTH'] < '2019-03-01']"
   ]
  },
  {
   "cell_type": "code",
   "execution_count": 160,
   "metadata": {},
   "outputs": [
    {
     "data": {
      "image/png": "[encoded data removed]",
      "text/plain": [
       "<Figure size 432x288 with 1 Axes>"
      ]
     },
     "metadata": {
      "needs_background": "light"
     },
     "output_type": "display_data"
    }
   ],
   "source": [
    "sns.lineplot(data = lineplot_ready_nCustomers, x = 'YEARMONTH', y = 'nCustomers', hue = 'store_type');"
   ]
  },
  {
   "cell_type": "code",
   "execution_count": 161,
   "metadata": {},
   "outputs": [],
   "source": [
    "scalingFactorForControlsSales = preTrialMeasures[preTrialMeasures['STORE_NBR'] == target_store]['totSales'].sum()/preTrialMeasures[preTrialMeasures['STORE_NBR'] == control_store]['totSales'].sum()\n",
    "controlSales_control_store = measureOverTimeSales[measureOverTimeSales['STORE_NBR'] == control_store]['totSales'].values*scalingFactorForControlsSales\n",
    "totSales_target_store = measureOverTimeSales[measureOverTimeSales['STORE_NBR'] == target_store]['totSales'].values\n",
    "time_series = measureOverTimeSales[measureOverTimeSales['STORE_NBR'] == control_store]['YEARMONTH'].values"
   ]
  },
  {
   "cell_type": "code",
   "execution_count": 162,
   "metadata": {},
   "outputs": [
    {
     "data": {
      "text/html": [
       "<div>\n",
       "<style scoped>\n",
       "    .dataframe tbody tr th:only-of-type {\n",
       "        vertical-align: middle;\n",
       "    }\n",
       "\n",
       "    .dataframe tbody tr th {\n",
       "        vertical-align: top;\n",
       "    }\n",
       "\n",
       "    .dataframe thead th {\n",
       "        text-align: right;\n",
       "    }\n",
       "</style>\n",
       "<table border=\"1\" class=\"dataframe\">\n",
       "  <thead>\n",
       "    <tr style=\"text-align: right;\">\n",
       "      <th></th>\n",
       "      <th>YEARMONTH</th>\n",
       "      <th>totSales_target_store</th>\n",
       "      <th>controlSales_control_store</th>\n",
       "      <th>percentageDiff</th>\n",
       "    </tr>\n",
       "  </thead>\n",
       "  <tbody>\n",
       "    <tr>\n",
       "      <th>0</th>\n",
       "      <td>2018-07-01</td>\n",
       "      <td>1310.0</td>\n",
       "      <td>1450.657086</td>\n",
       "      <td>0.096961</td>\n",
       "    </tr>\n",
       "    <tr>\n",
       "      <th>1</th>\n",
       "      <td>2018-08-01</td>\n",
       "      <td>1323.8</td>\n",
       "      <td>1369.931485</td>\n",
       "      <td>0.033674</td>\n",
       "    </tr>\n",
       "    <tr>\n",
       "      <th>2</th>\n",
       "      <td>2018-09-01</td>\n",
       "      <td>1423.0</td>\n",
       "      <td>1324.260425</td>\n",
       "      <td>0.074562</td>\n",
       "    </tr>\n",
       "    <tr>\n",
       "      <th>3</th>\n",
       "      <td>2018-10-01</td>\n",
       "      <td>1352.4</td>\n",
       "      <td>1350.401097</td>\n",
       "      <td>0.001480</td>\n",
       "    </tr>\n",
       "    <tr>\n",
       "      <th>4</th>\n",
       "      <td>2018-11-01</td>\n",
       "      <td>1382.8</td>\n",
       "      <td>1399.777923</td>\n",
       "      <td>0.012129</td>\n",
       "    </tr>\n",
       "  </tbody>\n",
       "</table>\n",
       "</div>"
      ],
      "text/plain": [
       "   YEARMONTH  totSales_target_store  controlSales_control_store  \\\n",
       "0 2018-07-01                 1310.0                 1450.657086   \n",
       "1 2018-08-01                 1323.8                 1369.931485   \n",
       "2 2018-09-01                 1423.0                 1324.260425   \n",
       "3 2018-10-01                 1352.4                 1350.401097   \n",
       "4 2018-11-01                 1382.8                 1399.777923   \n",
       "\n",
       "   percentageDiff  \n",
       "0        0.096961  \n",
       "1        0.033674  \n",
       "2        0.074562  \n",
       "3        0.001480  \n",
       "4        0.012129  "
      ]
     },
     "execution_count": 162,
     "metadata": {},
     "output_type": "execute_result"
    }
   ],
   "source": [
    "percentageDiff_sales = pd.DataFrame({'YEARMONTH': time_series,\n",
    "             'totSales_target_store': totSales_target_store,\n",
    "             'controlSales_control_store': controlSales_control_store,\n",
    "             'percentageDiff': abs(controlSales_control_store - totSales_target_store)/controlSales_control_store})\n",
    "percentageDiff_sales.head()"
   ]
  },
  {
   "cell_type": "code",
   "execution_count": 163,
   "metadata": {},
   "outputs": [
    {
     "data": {
      "text/plain": [
       "(6, 0.03346786730307889)"
      ]
     },
     "execution_count": 163,
     "metadata": {},
     "output_type": "execute_result"
    }
   ],
   "source": [
    "degreeOfFreedom = len(percentageDiff_sales[percentageDiff_sales['YEARMONTH'] < '2019-02-01']['percentageDiff']) - 1\n",
    "stdDev = stats.tstd(percentageDiff_sales[percentageDiff_sales['YEARMONTH'] < '2019-02-01']['percentageDiff'].values)\n",
    "\n",
    "degreeOfFreedom, stdDev"
   ]
  },
  {
   "cell_type": "code",
   "execution_count": 164,
   "metadata": {},
   "outputs": [
    {
     "data": {
      "text/html": [
       "<div>\n",
       "<style scoped>\n",
       "    .dataframe tbody tr th:only-of-type {\n",
       "        vertical-align: middle;\n",
       "    }\n",
       "\n",
       "    .dataframe tbody tr th {\n",
       "        vertical-align: top;\n",
       "    }\n",
       "\n",
       "    .dataframe thead th {\n",
       "        text-align: right;\n",
       "    }\n",
       "</style>\n",
       "<table border=\"1\" class=\"dataframe\">\n",
       "  <thead>\n",
       "    <tr style=\"text-align: right;\">\n",
       "      <th></th>\n",
       "      <th>TransactionMonth</th>\n",
       "      <th>tValue</th>\n",
       "    </tr>\n",
       "  </thead>\n",
       "  <tbody>\n",
       "    <tr>\n",
       "      <th>7</th>\n",
       "      <td>2019-02-01</td>\n",
       "      <td>0.781270</td>\n",
       "    </tr>\n",
       "    <tr>\n",
       "      <th>8</th>\n",
       "      <td>2019-03-01</td>\n",
       "      <td>6.595668</td>\n",
       "    </tr>\n",
       "    <tr>\n",
       "      <th>9</th>\n",
       "      <td>2019-04-01</td>\n",
       "      <td>5.768527</td>\n",
       "    </tr>\n",
       "  </tbody>\n",
       "</table>\n",
       "</div>"
      ],
      "text/plain": [
       "  TransactionMonth    tValue\n",
       "7       2019-02-01  0.781270\n",
       "8       2019-03-01  6.595668\n",
       "9       2019-04-01  5.768527"
      ]
     },
     "execution_count": 164,
     "metadata": {},
     "output_type": "execute_result"
    }
   ],
   "source": [
    "t_test_table_sales = pd.DataFrame({'TransactionMonth': percentageDiff_sales[(percentageDiff_sales['YEARMONTH'] > '2019-01-01') & (percentageDiff_sales['YEARMONTH'] < '2019-05-01')]['YEARMONTH'],\n",
    "                            'tValue': percentageDiff_sales[(percentageDiff_sales['YEARMONTH'] > '2019-01-01') & (percentageDiff_sales['YEARMONTH'] < '2019-05-01')]['percentageDiff'].values/stdDev})\n",
    "t_test_table_sales"
   ]
  },
  {
   "cell_type": "code",
   "execution_count": 165,
   "metadata": {},
   "outputs": [
    {
     "data": {
      "text/plain": [
       "2.4469118487916806"
      ]
     },
     "execution_count": 165,
     "metadata": {},
     "output_type": "execute_result"
    }
   ],
   "source": [
    "stats.t(df = degreeOfFreedom).ppf(0.975)"
   ]
  },
  {
   "cell_type": "code",
   "execution_count": 167,
   "metadata": {},
   "outputs": [
    {
     "data": {
      "image/png": "[encoded data removed]",
      "text/plain": [
       "<Figure size 720x720 with 1 Axes>"
      ]
     },
     "metadata": {
      "needs_background": "light"
     },
     "output_type": "display_data"
    }
   ],
   "source": [
    "plot_ready_all_totSales = plot_ready_feature(88, 237, 'totSales', stdDev)\n",
    "plot_overtime_between_control_trial('totSales', plot_ready_all_totSales)"
   ]
  },
  {
   "cell_type": "code",
   "execution_count": 168,
   "metadata": {},
   "outputs": [],
   "source": [
    "scalingFactorForControlsCust = preTrialMeasures[preTrialMeasures['STORE_NBR'] == target_store]['nCustomers'].sum()/preTrialMeasures[preTrialMeasures['STORE_NBR'] == control_store]['nCustomers'].sum()\n",
    "nCust_control_store = measureOverTimeSales[measureOverTimeSales['STORE_NBR'] == control_store]['nCustomers'].values*scalingFactorForControlsCust\n",
    "nCust_target_store = measureOverTimeSales[measureOverTimeSales['STORE_NBR'] == target_store]['nCustomers'].values\n",
    "time_series = measureOverTimeSales[measureOverTimeSales['STORE_NBR'] == control_store]['YEARMONTH'].values"
   ]
  },
  {
   "cell_type": "code",
   "execution_count": 169,
   "metadata": {},
   "outputs": [
    {
     "data": {
      "text/html": [
       "<div>\n",
       "<style scoped>\n",
       "    .dataframe tbody tr th:only-of-type {\n",
       "        vertical-align: middle;\n",
       "    }\n",
       "\n",
       "    .dataframe tbody tr th {\n",
       "        vertical-align: top;\n",
       "    }\n",
       "\n",
       "    .dataframe thead th {\n",
       "        text-align: right;\n",
       "    }\n",
       "</style>\n",
       "<table border=\"1\" class=\"dataframe\">\n",
       "  <thead>\n",
       "    <tr style=\"text-align: right;\">\n",
       "      <th></th>\n",
       "      <th>YEARMONTH</th>\n",
       "      <th>nCust_target_store</th>\n",
       "      <th>controlnCust_control_store</th>\n",
       "      <th>percentageDiff</th>\n",
       "    </tr>\n",
       "  </thead>\n",
       "  <tbody>\n",
       "    <tr>\n",
       "      <th>0</th>\n",
       "      <td>2018-07-01</td>\n",
       "      <td>129</td>\n",
       "      <td>127.276836</td>\n",
       "      <td>0.013539</td>\n",
       "    </tr>\n",
       "    <tr>\n",
       "      <th>1</th>\n",
       "      <td>2018-08-01</td>\n",
       "      <td>131</td>\n",
       "      <td>134.237288</td>\n",
       "      <td>0.024116</td>\n",
       "    </tr>\n",
       "    <tr>\n",
       "      <th>2</th>\n",
       "      <td>2018-09-01</td>\n",
       "      <td>124</td>\n",
       "      <td>125.288136</td>\n",
       "      <td>0.010281</td>\n",
       "    </tr>\n",
       "    <tr>\n",
       "      <th>3</th>\n",
       "      <td>2018-10-01</td>\n",
       "      <td>123</td>\n",
       "      <td>122.305085</td>\n",
       "      <td>0.005682</td>\n",
       "    </tr>\n",
       "    <tr>\n",
       "      <th>4</th>\n",
       "      <td>2018-11-01</td>\n",
       "      <td>130</td>\n",
       "      <td>131.254237</td>\n",
       "      <td>0.009556</td>\n",
       "    </tr>\n",
       "  </tbody>\n",
       "</table>\n",
       "</div>"
      ],
      "text/plain": [
       "   YEARMONTH  nCust_target_store  controlnCust_control_store  percentageDiff\n",
       "0 2018-07-01                 129                  127.276836        0.013539\n",
       "1 2018-08-01                 131                  134.237288        0.024116\n",
       "2 2018-09-01                 124                  125.288136        0.010281\n",
       "3 2018-10-01                 123                  122.305085        0.005682\n",
       "4 2018-11-01                 130                  131.254237        0.009556"
      ]
     },
     "execution_count": 169,
     "metadata": {},
     "output_type": "execute_result"
    }
   ],
   "source": [
    "\n",
    "percentageDiff_nCust = pd.DataFrame({'YEARMONTH': time_series,\n",
    "             'nCust_target_store': nCust_target_store,\n",
    "             'controlnCust_control_store': nCust_control_store,\n",
    "             'percentageDiff': abs(nCust_control_store - nCust_target_store)/nCust_control_store})\n",
    "\n",
    "\n",
    "percentageDiff_nCust.head()"
   ]
  },
  {
   "cell_type": "code",
   "execution_count": 170,
   "metadata": {},
   "outputs": [
    {
     "data": {
      "text/plain": [
       "(88, 237)"
      ]
     },
     "execution_count": 170,
     "metadata": {},
     "output_type": "execute_result"
    }
   ],
   "source": [
    "target_store, control_store"
   ]
  },
  {
   "cell_type": "code",
   "execution_count": 171,
   "metadata": {},
   "outputs": [
    {
     "data": {
      "text/plain": [
       "(6, 0.00741024435207507)"
      ]
     },
     "execution_count": 171,
     "metadata": {},
     "output_type": "execute_result"
    }
   ],
   "source": [
    "degreeOfFreedom = len(percentageDiff_nCust[percentageDiff_nCust['YEARMONTH'] < '2019-02-01']['percentageDiff']) - 1\n",
    "stdDev = stats.tstd(percentageDiff_nCust[percentageDiff_nCust['YEARMONTH'] < '2019-02-01']['percentageDiff'].values)\n",
    "\n",
    "degreeOfFreedom, stdDev"
   ]
  },
  {
   "cell_type": "code",
   "execution_count": 172,
   "metadata": {},
   "outputs": [
    {
     "data": {
      "text/html": [
       "<div>\n",
       "<style scoped>\n",
       "    .dataframe tbody tr th:only-of-type {\n",
       "        vertical-align: middle;\n",
       "    }\n",
       "\n",
       "    .dataframe tbody tr th {\n",
       "        vertical-align: top;\n",
       "    }\n",
       "\n",
       "    .dataframe thead th {\n",
       "        text-align: right;\n",
       "    }\n",
       "</style>\n",
       "<table border=\"1\" class=\"dataframe\">\n",
       "  <thead>\n",
       "    <tr style=\"text-align: right;\">\n",
       "      <th></th>\n",
       "      <th>TransactionMonth</th>\n",
       "      <th>tValue</th>\n",
       "    </tr>\n",
       "  </thead>\n",
       "  <tbody>\n",
       "    <tr>\n",
       "      <th>7</th>\n",
       "      <td>2019-02-01</td>\n",
       "      <td>1.387456</td>\n",
       "    </tr>\n",
       "    <tr>\n",
       "      <th>8</th>\n",
       "      <td>2019-03-01</td>\n",
       "      <td>17.873693</td>\n",
       "    </tr>\n",
       "    <tr>\n",
       "      <th>9</th>\n",
       "      <td>2019-04-01</td>\n",
       "      <td>9.814423</td>\n",
       "    </tr>\n",
       "  </tbody>\n",
       "</table>\n",
       "</div>"
      ],
      "text/plain": [
       "  TransactionMonth     tValue\n",
       "7       2019-02-01   1.387456\n",
       "8       2019-03-01  17.873693\n",
       "9       2019-04-01   9.814423"
      ]
     },
     "execution_count": 172,
     "metadata": {},
     "output_type": "execute_result"
    }
   ],
   "source": [
    "t_test_table_nCust = pd.DataFrame({'TransactionMonth': percentageDiff_nCust[(percentageDiff_nCust['YEARMONTH'] > '2019-01-01') & (percentageDiff_nCust['YEARMONTH'] < '2019-05-01')]['YEARMONTH'],\n",
    "                            'tValue': percentageDiff_nCust[(percentageDiff_nCust['YEARMONTH'] > '2019-01-01') & (percentageDiff_nCust['YEARMONTH'] < '2019-05-01')]['percentageDiff'].values/stdDev})\n",
    "\n",
    "t_test_table_nCust"
   ]
  },
  {
   "cell_type": "code",
   "execution_count": 173,
   "metadata": {},
   "outputs": [
    {
     "data": {
      "text/plain": [
       "2.4469118487916806"
      ]
     },
     "execution_count": 173,
     "metadata": {},
     "output_type": "execute_result"
    }
   ],
   "source": [
    "stats.t(df = degreeOfFreedom).ppf(0.975)"
   ]
  },
  {
   "cell_type": "code",
   "execution_count": 175,
   "metadata": {},
   "outputs": [
    {
     "data": {
      "image/png": "[encoded data removed]",
      "text/plain": [
       "<Figure size 720x720 with 1 Axes>"
      ]
     },
     "metadata": {
      "needs_background": "light"
     },
     "output_type": "display_data"
    }
   ],
   "source": [
    "plot_ready_all_nCust = plot_ready_feature(88, 237, 'nCustomers', stdDev)\n",
    "plot_overtime_between_control_trial('nCustomers', plot_ready_all_nCust)\n"
   ]
  },
  {
   "cell_type": "code",
   "execution_count": null,
   "metadata": {},
   "outputs": [],
   "source": []
  }
 ],
 "metadata": {
  "kernelspec": {
   "display_name": "Python 3",
   "language": "python",
   "name": "python3"
  },
  "language_info": {
   "codemirror_mode": {
    "name": "ipython",
    "version": 3
   },
   "file_extension": ".py",
   "mimetype": "text/x-python",
   "name": "python",
   "nbconvert_exporter": "python",
   "pygments_lexer": "ipython3",
   "version": "3.7.4"
  }
 },
 "nbformat": 4,
 "nbformat_minor": 2
}
