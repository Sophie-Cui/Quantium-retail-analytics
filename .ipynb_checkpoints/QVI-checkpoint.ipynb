{
 "cells": [
  {
   "cell_type": "code",
   "execution_count": 1,
   "metadata": {},
   "outputs": [],
   "source": [
    "import pandas as pd\n",
    "import numpy as np\n",
    "import matplotlib.pyplot as plt\n",
    "import re\n",
    "import seaborn as sns"
   ]
  },
  {
   "cell_type": "markdown",
   "metadata": {},
   "source": [
    "\n",
    "a year's worth of product transcations\n",
    "\n",
    "customer data for region\n",
    "\n",
    "data check\n",
    "\n",
    "missing values\n",
    "incorrect data type\n",
    "\n",
    "extra feature: size of the packages, brand name\n",
    "\n",
    "customer segment and who should been targeting\n",
    "\n",
    "metrics:\n",
    "\n",
    "spending more per each product over time\n",
    "\n",
    "multi-pack buyers\n",
    "\n",
    "visualizing\n",
    "\n",
    "\n",
    "Examine transaction data – look for inconsistencies, missing data across the data set, outliers, correctly identified category items, numeric data across all tables. If you determine any anomalies make the necessary changes in the dataset and save it. Having clean data will help when it comes to your analysis. \n",
    "\n",
    "\n",
    "\n",
    "Examine customer data – check for similar issues in the customer data, look for nulls and when you are happy merge the transaction and customer data together so it’s ready for the analysis ensuring you save your files along the way.\n",
    "\n",
    "\n",
    "Data analysis and customer segments – in your analysis make sure you define the metrics – look at total sales, drivers of sales, where the highest sales are coming from etc. Explore the data, create charts and graphs as well as noting any interesting trends and/or insights you find. \n",
    "\n",
    "Deep dive into customer segments – define your recommendation from your insights, determine which segments we should be targeting, if packet sizes are relative and form an overall conclusion based on your analysis. \n",
    "\n"
   ]
  },
  {
   "cell_type": "markdown",
   "metadata": {},
   "source": [
    "#### Dataset\n",
    "`transaction` dataframe is imported from `QVI_transaction_data.xlsx`<br>\n",
    "feature: \n",
    "- DATE: the days after the base date (1899-12-30)\n",
    "- STORE_NBR: the store ID number\n",
    "- LYLTY_CARD_NBR: loyalty card id number\n",
    "- TXN_ID: transaction ID\n",
    "- PROD_NBR: Product ID Number\n",
    "- PROD_NAME: product name \n",
    "- PROD_QTY: product quantity sold\n",
    "- TOT_SALES: total sales\n",
    "\n",
    "#### Data Wrangling\n",
    "- DATE \n",
    "> - Converting the days from base date to date<br>\n",
    "\n",
    "\n",
    "- PROD_NBR, PROD_NAME \n",
    "> - There are total 114 products sold. Some of them are salsa dipping sause. In order to find them out, the product table is extracted from the transaction table, containing 114 products (PROD_NBR, PROD_NAME). After investigating 114 products, there are 7 salsa products. Since we are inly interesting at the chips products, the records in transaction table only containing 7 salsa prodocts will be removed from the transaction table. <br>\n",
    "The 7 salsa products are (PROD_NBR, PROD_NAME): <br>\n",
    "35, Woolworths Mild Salsa 300g <br>\n",
    "76, Woolworths Medium Salsa 300g\n",
    "57, Old El Paso Salsa Dip Tomato Mild 300g<br>\n",
    "59, Old El Paso Salsa Dip Tomato Med 300g<br>\n",
    "65, Old El Paso Salsa Dip Chnky Tom Ht300g<br>\n",
    "41, Doritos Salsa Mild 300g<br>\n",
    "101, Doritos Salsa Medium 300g<br>\n",
    "> - Extracting the brand name (BRAND) from PROD_NAME <br>\n",
    "> - Extracting the pack net weight (NET_WT) from PROD_NAME <br>\n",
    "\n",
    "- PROD_QTY, TOT_SALES\n",
    "> By the boxplots of PROD_QTY and TOT_SALES, there are clearly outliers on both features and look at the trasaction table. I saw the the two records where 200 packets of Doritos chips are bought in one transaction made by same customer. It looks like this customer has only had the two transactions over the year and is not an ordinary retail customer. The customer are premium customer from elder family. The customer might be buying chips for commericial purposes instead. I remove this loyalty card number in the customer table and the transaction made by this loyalty card number in the transaction table. \n",
    "\n",
    "- Time Series\n",
    "> - These is one day missing was 2018-12-25 since all store close on Christmas day. <br>\n",
    "Let's look at the number of transaction lines over time to see if there are any obvious data issues such as missing data. We see the increase in sales occurs in the lead-up to Christmas and that there are zero sales on Christmas day itself. This is due to shops being closed on Christmas day.<br>\n"
   ]
  },
  {
   "cell_type": "markdown",
   "metadata": {},
   "source": []
  },
  {
   "cell_type": "code",
   "execution_count": 2,
   "metadata": {},
   "outputs": [],
   "source": [
    "# import data\n",
    "transaction= pd.read_excel('data/QVI_transaction_data.xlsx')"
   ]
  },
  {
   "cell_type": "code",
   "execution_count": 3,
   "metadata": {},
   "outputs": [
    {
     "name": "stdout",
     "output_type": "stream",
     "text": [
      "df shape: (264836, 8)\n",
      "missing values:\n",
      " DATE              0\n",
      "STORE_NBR         0\n",
      "LYLTY_CARD_NBR    0\n",
      "TXN_ID            0\n",
      "PROD_NBR          0\n",
      "PROD_NAME         0\n",
      "PROD_QTY          0\n",
      "TOT_SALES         0\n",
      "dtype: int64\n",
      "description:\n",
      "                 DATE     STORE_NBR  LYLTY_CARD_NBR        TXN_ID  \\\n",
      "count  264836.000000  264836.00000    2.648360e+05  2.648360e+05   \n",
      "mean    43464.036260     135.08011    1.355495e+05  1.351583e+05   \n",
      "std       105.389282      76.78418    8.057998e+04  7.813303e+04   \n",
      "min     43282.000000       1.00000    1.000000e+03  1.000000e+00   \n",
      "25%     43373.000000      70.00000    7.002100e+04  6.760150e+04   \n",
      "50%     43464.000000     130.00000    1.303575e+05  1.351375e+05   \n",
      "75%     43555.000000     203.00000    2.030942e+05  2.027012e+05   \n",
      "max     43646.000000     272.00000    2.373711e+06  2.415841e+06   \n",
      "\n",
      "            PROD_NBR       PROD_QTY      TOT_SALES  \n",
      "count  264836.000000  264836.000000  264836.000000  \n",
      "mean       56.583157       1.907309       7.304200  \n",
      "std        32.826638       0.643654       3.083226  \n",
      "min         1.000000       1.000000       1.500000  \n",
      "25%        28.000000       2.000000       5.400000  \n",
      "50%        56.000000       2.000000       7.400000  \n",
      "75%        85.000000       2.000000       9.200000  \n",
      "max       114.000000     200.000000     650.000000  \n"
     ]
    },
    {
     "data": {
      "text/html": [
       "<div>\n",
       "<style scoped>\n",
       "    .dataframe tbody tr th:only-of-type {\n",
       "        vertical-align: middle;\n",
       "    }\n",
       "\n",
       "    .dataframe tbody tr th {\n",
       "        vertical-align: top;\n",
       "    }\n",
       "\n",
       "    .dataframe thead th {\n",
       "        text-align: right;\n",
       "    }\n",
       "</style>\n",
       "<table border=\"1\" class=\"dataframe\">\n",
       "  <thead>\n",
       "    <tr style=\"text-align: right;\">\n",
       "      <th></th>\n",
       "      <th>DATE</th>\n",
       "      <th>STORE_NBR</th>\n",
       "      <th>LYLTY_CARD_NBR</th>\n",
       "      <th>TXN_ID</th>\n",
       "      <th>PROD_NBR</th>\n",
       "      <th>PROD_NAME</th>\n",
       "      <th>PROD_QTY</th>\n",
       "      <th>TOT_SALES</th>\n",
       "    </tr>\n",
       "  </thead>\n",
       "  <tbody>\n",
       "    <tr>\n",
       "      <th>0</th>\n",
       "      <td>43390</td>\n",
       "      <td>1</td>\n",
       "      <td>1000</td>\n",
       "      <td>1</td>\n",
       "      <td>5</td>\n",
       "      <td>Natural Chip        Compny SeaSalt175g</td>\n",
       "      <td>2</td>\n",
       "      <td>6.0</td>\n",
       "    </tr>\n",
       "    <tr>\n",
       "      <th>1</th>\n",
       "      <td>43599</td>\n",
       "      <td>1</td>\n",
       "      <td>1307</td>\n",
       "      <td>348</td>\n",
       "      <td>66</td>\n",
       "      <td>CCs Nacho Cheese    175g</td>\n",
       "      <td>3</td>\n",
       "      <td>6.3</td>\n",
       "    </tr>\n",
       "    <tr>\n",
       "      <th>2</th>\n",
       "      <td>43605</td>\n",
       "      <td>1</td>\n",
       "      <td>1343</td>\n",
       "      <td>383</td>\n",
       "      <td>61</td>\n",
       "      <td>Smiths Crinkle Cut  Chips Chicken 170g</td>\n",
       "      <td>2</td>\n",
       "      <td>2.9</td>\n",
       "    </tr>\n",
       "    <tr>\n",
       "      <th>3</th>\n",
       "      <td>43329</td>\n",
       "      <td>2</td>\n",
       "      <td>2373</td>\n",
       "      <td>974</td>\n",
       "      <td>69</td>\n",
       "      <td>Smiths Chip Thinly  S/Cream&amp;Onion 175g</td>\n",
       "      <td>5</td>\n",
       "      <td>15.0</td>\n",
       "    </tr>\n",
       "    <tr>\n",
       "      <th>4</th>\n",
       "      <td>43330</td>\n",
       "      <td>2</td>\n",
       "      <td>2426</td>\n",
       "      <td>1038</td>\n",
       "      <td>108</td>\n",
       "      <td>Kettle Tortilla ChpsHny&amp;Jlpno Chili 150g</td>\n",
       "      <td>3</td>\n",
       "      <td>13.8</td>\n",
       "    </tr>\n",
       "  </tbody>\n",
       "</table>\n",
       "</div>"
      ],
      "text/plain": [
       "    DATE  STORE_NBR  LYLTY_CARD_NBR  TXN_ID  PROD_NBR  \\\n",
       "0  43390          1            1000       1         5   \n",
       "1  43599          1            1307     348        66   \n",
       "2  43605          1            1343     383        61   \n",
       "3  43329          2            2373     974        69   \n",
       "4  43330          2            2426    1038       108   \n",
       "\n",
       "                                  PROD_NAME  PROD_QTY  TOT_SALES  \n",
       "0    Natural Chip        Compny SeaSalt175g         2        6.0  \n",
       "1                  CCs Nacho Cheese    175g         3        6.3  \n",
       "2    Smiths Crinkle Cut  Chips Chicken 170g         2        2.9  \n",
       "3    Smiths Chip Thinly  S/Cream&Onion 175g         5       15.0  \n",
       "4  Kettle Tortilla ChpsHny&Jlpno Chili 150g         3       13.8  "
      ]
     },
     "execution_count": 3,
     "metadata": {},
     "output_type": "execute_result"
    }
   ],
   "source": [
    "print('df shape:', transaction.shape)\n",
    "print('missing values:\\n', transaction.isnull().sum())\n",
    "print('description:\\n',transaction.describe())\n",
    "transaction.head()"
   ]
  },
  {
   "cell_type": "code",
   "execution_count": 4,
   "metadata": {},
   "outputs": [],
   "source": [
    "##### 1. Date Data Type\n",
    "# date datatype\n",
    "transaction['DATE'] = pd.to_datetime(transaction['DATE'], unit = 'D', origin = pd.Timestamp('1899-12-30'))"
   ]
  },
  {
   "cell_type": "code",
   "execution_count": 5,
   "metadata": {},
   "outputs": [],
   "source": [
    "##### 2. Correct Erroneous Product name\n",
    "# make product table \n",
    "\n",
    "product = transaction[['PROD_NBR', 'PROD_NAME']].drop_duplicates()\n",
    "\n",
    "# exclude the salsa product\n",
    "\n",
    "mask = product['PROD_NBR'].isin([35, 76, 57, 59, 65, 41, 101])\n",
    "product = product[~mask]"
   ]
  },
  {
   "cell_type": "code",
   "execution_count": 6,
   "metadata": {},
   "outputs": [],
   "source": [
    "# extract net weight \n",
    "product['NET_WT'] = product.PROD_NAME.str.extract('(\\d+)').astype(int)\n",
    "product['PROD_NAME'] = product.PROD_NAME.str.replace('(\\d+)[gG]', '')\n"
   ]
  },
  {
   "cell_type": "code",
   "execution_count": 7,
   "metadata": {},
   "outputs": [],
   "source": [
    "# correct erroneous brand name \n",
    "product.loc[7, 'PROD_NAME'] = 'Sunbites Grain Waves Sweet Chilli'\n",
    "product.loc[9, 'PROD_NAME'] = 'Sunbites Grain Waves Sour Cream&Chives'\n",
    "product.loc[16, 'PROD_NAME'] = 'Smiths Burger Rings'\n",
    "product.loc[56, 'PROD_NAME'] = 'Sunbites Grain Waves Plus Btroot & Chilli Jam'"
   ]
  },
  {
   "cell_type": "code",
   "execution_count": 8,
   "metadata": {},
   "outputs": [],
   "source": [
    "\n",
    "incorrect_brandname = np.array(['NCC', 'Natural Chip        Compny', 'Natural Chip Co', 'Natural ChipCo', \n",
    "                       'Smith ', 'Infzns', 'Red Rock Deli', 'Snbts', 'Dorito ', 'WW', 'French Fries', 'GrnWves'])\n",
    "\n",
    "a = np.repeat('Natural_Chip_Company', 4)\n",
    "correct_brandname = np.append(a, ['Smiths ', 'Infuzions', 'RRD', 'Sunbites', 'Doritos ', 'Woolworths', 'French_Fries', 'Grain Waves'])\n",
    "\n",
    "brand_name_corrected = dict(zip(incorrect_brandname, correct_brandname))\n"
   ]
  },
  {
   "cell_type": "code",
   "execution_count": 9,
   "metadata": {},
   "outputs": [],
   "source": [
    "#pd.set_option('display.max_rows', None)\n",
    "product['PROD_NAME'] = product[['PROD_NAME']].replace(brand_name_corrected, regex=True)\n",
    "product['BRAND'] = product['PROD_NAME'].str.split(' ', 1, expand = True)[0]"
   ]
  },
  {
   "cell_type": "code",
   "execution_count": 10,
   "metadata": {},
   "outputs": [],
   "source": [
    "product = product[['PROD_NBR', 'NET_WT', 'BRAND']]"
   ]
  },
  {
   "cell_type": "code",
   "execution_count": 11,
   "metadata": {},
   "outputs": [
    {
     "data": {
      "text/html": [
       "<div>\n",
       "<style scoped>\n",
       "    .dataframe tbody tr th:only-of-type {\n",
       "        vertical-align: middle;\n",
       "    }\n",
       "\n",
       "    .dataframe tbody tr th {\n",
       "        vertical-align: top;\n",
       "    }\n",
       "\n",
       "    .dataframe thead th {\n",
       "        text-align: right;\n",
       "    }\n",
       "</style>\n",
       "<table border=\"1\" class=\"dataframe\">\n",
       "  <thead>\n",
       "    <tr style=\"text-align: right;\">\n",
       "      <th></th>\n",
       "      <th>PROD_NBR</th>\n",
       "      <th>NET_WT</th>\n",
       "      <th>BRAND</th>\n",
       "    </tr>\n",
       "  </thead>\n",
       "  <tbody>\n",
       "    <tr>\n",
       "      <th>0</th>\n",
       "      <td>5</td>\n",
       "      <td>175</td>\n",
       "      <td>Natural_Chip_Company</td>\n",
       "    </tr>\n",
       "    <tr>\n",
       "      <th>1</th>\n",
       "      <td>66</td>\n",
       "      <td>175</td>\n",
       "      <td>CCs</td>\n",
       "    </tr>\n",
       "    <tr>\n",
       "      <th>2</th>\n",
       "      <td>61</td>\n",
       "      <td>170</td>\n",
       "      <td>Smiths</td>\n",
       "    </tr>\n",
       "    <tr>\n",
       "      <th>3</th>\n",
       "      <td>69</td>\n",
       "      <td>175</td>\n",
       "      <td>Smiths</td>\n",
       "    </tr>\n",
       "    <tr>\n",
       "      <th>4</th>\n",
       "      <td>108</td>\n",
       "      <td>150</td>\n",
       "      <td>Kettle</td>\n",
       "    </tr>\n",
       "  </tbody>\n",
       "</table>\n",
       "</div>"
      ],
      "text/plain": [
       "   PROD_NBR  NET_WT                 BRAND\n",
       "0         5     175  Natural_Chip_Company\n",
       "1        66     175                   CCs\n",
       "2        61     170                Smiths\n",
       "3        69     175                Smiths\n",
       "4       108     150                Kettle"
      ]
     },
     "execution_count": 11,
     "metadata": {},
     "output_type": "execute_result"
    }
   ],
   "source": [
    "product.head()"
   ]
  },
  {
   "cell_type": "code",
   "execution_count": 22,
   "metadata": {},
   "outputs": [],
   "source": [
    "# join the product table back into the transaction table\n",
    "# transaction.join(product, how = 'inner', on = 'PROD_NBR', lsuffix = '_left', rsuffix = '_right')"
   ]
  },
  {
   "cell_type": "code",
   "execution_count": 12,
   "metadata": {},
   "outputs": [
    {
     "name": "stdout",
     "output_type": "stream",
     "text": [
      "one missiing day is  {Timestamp('2018-12-25 00:00:00', freq='D')}\n"
     ]
    }
   ],
   "source": [
    "##### 3. Missing one date\n",
    "a = set(transaction.DATE.to_list())\n",
    "b = set(pd.date_range(start=transaction.DATE.min(), end=transaction.DATE.max(), freq='D').to_list())\n",
    "print('one missiing day is ', b-a)"
   ]
  },
  {
   "cell_type": "code",
   "execution_count": 13,
   "metadata": {},
   "outputs": [
    {
     "name": "stderr",
     "output_type": "stream",
     "text": [
      "/Users/murongcui/opt/anaconda3/lib/python3.7/site-packages/pandas/plotting/_converter.py:129: FutureWarning: Using an implicitly registered datetime converter for a matplotlib plotting method. The converter was registered by pandas on import. Future versions of pandas will require you to explicitly register matplotlib converters.\n",
      "\n",
      "To register the converters:\n",
      "\t>>> from pandas.plotting import register_matplotlib_converters\n",
      "\t>>> register_matplotlib_converters()\n",
      "  warnings.warn(msg, FutureWarning)\n"
     ]
    },
    {
     "data": {
      "image/png": "[encoded data removed]",
      "text/plain": [
       "<Figure size 1440x216 with 1 Axes>"
      ]
     },
     "metadata": {
      "needs_background": "light"
     },
     "output_type": "display_data"
    }
   ],
   "source": [
    "plt.figure(figsize = (20, 3))\n",
    "sns.lineplot(x = transaction.DATE.value_counts().index ,\n",
    "             y = transaction.DATE.value_counts().values);\n",
    "sns.scatterplot(x = transaction.DATE.value_counts().index ,\n",
    "             y = transaction.DATE.value_counts().values, \n",
    "                s = 30);"
   ]
  },
  {
   "cell_type": "code",
   "execution_count": 14,
   "metadata": {},
   "outputs": [
    {
     "data": {
      "image/png": "[encoded data removed]",
      "text/plain": [
       "<Figure size 1440x216 with 1 Axes>"
      ]
     },
     "metadata": {
      "needs_background": "light"
     },
     "output_type": "display_data"
    }
   ],
   "source": [
    "dec_tran = transaction[transaction.DATE.dt.month == 12]\n",
    "plt.figure(figsize = (20, 3))\n",
    "sns.lineplot(x = dec_tran.DATE.value_counts().index ,\n",
    "             y = dec_tran.DATE.value_counts().values);\n",
    "sns.scatterplot(x = dec_tran.DATE.value_counts().index ,\n",
    "             y = dec_tran.DATE.value_counts().values, \n",
    "                s = 100);"
   ]
  },
  {
   "cell_type": "code",
   "execution_count": 15,
   "metadata": {},
   "outputs": [
    {
     "data": {
      "text/plain": [
       "Text(0, 0.5, 'Total Sales')"
      ]
     },
     "execution_count": 15,
     "metadata": {},
     "output_type": "execute_result"
    },
    {
     "data": {
      "image/png": "[encoded data removed]",
      "text/plain": [
       "<Figure size 720x216 with 2 Axes>"
      ]
     },
     "metadata": {
      "needs_background": "light"
     },
     "output_type": "display_data"
    }
   ],
   "source": [
    "##### 4. outliers\n",
    "\n",
    "plt.figure(figsize = (10, 3))\n",
    "\n",
    "plt.subplot(2,1,1)\n",
    "sns.boxplot(x = 'PROD_QTY', data = transaction);\n",
    "plt.ylabel('Product Quantity')\n",
    "\n",
    "plt.subplot(2,1,2)\n",
    "sns.boxplot(x = 'TOT_SALES', data = transaction);\n",
    "plt.ylabel('Total Sales')\n",
    "#ax2 = sns.boxplot(x = 'TOT_SALES', data = transaction);\n"
   ]
  },
  {
   "cell_type": "code",
   "execution_count": 23,
   "metadata": {},
   "outputs": [],
   "source": [
    "transaction = transaction[transaction.LYLTY_CARD_NBR != 226000]\n",
    "customer = customer[customer.LYLTY_CARD_NBR != 226000]"
   ]
  },
  {
   "cell_type": "code",
   "execution_count": 28,
   "metadata": {},
   "outputs": [],
   "source": [
    "# remove multiple spaces\n",
    "transaction['PROD_NAME'] = transaction.PROD_NAME.replace('\\s+', ' ', regex=True)"
   ]
  },
  {
   "cell_type": "code",
   "execution_count": 398,
   "metadata": {},
   "outputs": [
    {
     "data": {
      "text/plain": [
       "Mainstream    29245\n",
       "Budget        24470\n",
       "Premium       18922\n",
       "Name: PREMIUM_CUSTOMER, dtype: int64"
      ]
     },
     "execution_count": 398,
     "metadata": {},
     "output_type": "execute_result"
    }
   ],
   "source": [
    "customer.PREMIUM_CUSTOMER.value_counts()"
   ]
  },
  {
   "cell_type": "code",
   "execution_count": 18,
   "metadata": {},
   "outputs": [],
   "source": [
    "customer = pd.read_csv('data/QVI_purchase_behaviour.csv')"
   ]
  },
  {
   "cell_type": "code",
   "execution_count": 19,
   "metadata": {},
   "outputs": [
    {
     "data": {
      "text/html": [
       "<div>\n",
       "<style scoped>\n",
       "    .dataframe tbody tr th:only-of-type {\n",
       "        vertical-align: middle;\n",
       "    }\n",
       "\n",
       "    .dataframe tbody tr th {\n",
       "        vertical-align: top;\n",
       "    }\n",
       "\n",
       "    .dataframe thead th {\n",
       "        text-align: right;\n",
       "    }\n",
       "</style>\n",
       "<table border=\"1\" class=\"dataframe\">\n",
       "  <thead>\n",
       "    <tr style=\"text-align: right;\">\n",
       "      <th></th>\n",
       "      <th>LYLTY_CARD_NBR</th>\n",
       "      <th>LIFESTAGE</th>\n",
       "      <th>PREMIUM_CUSTOMER</th>\n",
       "    </tr>\n",
       "  </thead>\n",
       "  <tbody>\n",
       "    <tr>\n",
       "      <th>0</th>\n",
       "      <td>1000</td>\n",
       "      <td>YOUNG SINGLES/COUPLES</td>\n",
       "      <td>Premium</td>\n",
       "    </tr>\n",
       "    <tr>\n",
       "      <th>1</th>\n",
       "      <td>1002</td>\n",
       "      <td>YOUNG SINGLES/COUPLES</td>\n",
       "      <td>Mainstream</td>\n",
       "    </tr>\n",
       "    <tr>\n",
       "      <th>2</th>\n",
       "      <td>1003</td>\n",
       "      <td>YOUNG FAMILIES</td>\n",
       "      <td>Budget</td>\n",
       "    </tr>\n",
       "    <tr>\n",
       "      <th>3</th>\n",
       "      <td>1004</td>\n",
       "      <td>OLDER SINGLES/COUPLES</td>\n",
       "      <td>Mainstream</td>\n",
       "    </tr>\n",
       "    <tr>\n",
       "      <th>4</th>\n",
       "      <td>1005</td>\n",
       "      <td>MIDAGE SINGLES/COUPLES</td>\n",
       "      <td>Mainstream</td>\n",
       "    </tr>\n",
       "  </tbody>\n",
       "</table>\n",
       "</div>"
      ],
      "text/plain": [
       "   LYLTY_CARD_NBR               LIFESTAGE PREMIUM_CUSTOMER\n",
       "0            1000   YOUNG SINGLES/COUPLES          Premium\n",
       "1            1002   YOUNG SINGLES/COUPLES       Mainstream\n",
       "2            1003          YOUNG FAMILIES           Budget\n",
       "3            1004   OLDER SINGLES/COUPLES       Mainstream\n",
       "4            1005  MIDAGE SINGLES/COUPLES       Mainstream"
      ]
     },
     "execution_count": 19,
     "metadata": {},
     "output_type": "execute_result"
    }
   ],
   "source": [
    "customer.head()"
   ]
  },
  {
   "cell_type": "code",
   "execution_count": 25,
   "metadata": {},
   "outputs": [
    {
     "data": {
      "text/plain": [
       "(72637, 3)"
      ]
     },
     "execution_count": 25,
     "metadata": {},
     "output_type": "execute_result"
    }
   ],
   "source": []
  },
  {
   "cell_type": "code",
   "execution_count": 26,
   "metadata": {},
   "outputs": [
    {
     "data": {
      "text/plain": [
       "72637"
      ]
     },
     "execution_count": 26,
     "metadata": {},
     "output_type": "execute_result"
    }
   ],
   "source": []
  },
  {
   "cell_type": "code",
   "execution_count": null,
   "metadata": {},
   "outputs": [],
   "source": []
  },
  {
   "cell_type": "code",
   "execution_count": null,
   "metadata": {},
   "outputs": [],
   "source": []
  }
 ],
 "metadata": {
  "kernelspec": {
   "display_name": "Python 3",
   "language": "python",
   "name": "python3"
  },
  "language_info": {
   "codemirror_mode": {
    "name": "ipython",
    "version": 3
   },
   "file_extension": ".py",
   "mimetype": "text/x-python",
   "name": "python",
   "nbconvert_exporter": "python",
   "pygments_lexer": "ipython3",
   "version": "3.7.4"
  }
 },
 "nbformat": 4,
 "nbformat_minor": 2
}
